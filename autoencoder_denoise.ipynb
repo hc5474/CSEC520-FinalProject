{
 "cells": [
  {
   "cell_type": "code",
   "execution_count": null,
   "id": "23145517",
   "metadata": {},
   "outputs": [
    {
     "data": {
      "text/plain": [
       "'\\nAI Usage Statement (Han Chen)\\nTools Used: ChatGPT\\n    - Usage: RoC Curve implementation\\n    - Verification: Gave Chat the algorithm and only had it produce the code based on my instruction.\\nProhibited Use Compliance: Confirmed\\n\\n'"
      ]
     },
     "execution_count": 169,
     "metadata": {},
     "output_type": "execute_result"
    }
   ],
   "source": [
    "\"\"\"\n",
    "AI Usage Statement (Han Chen)\n",
    "Tools Used: ChatGPT\n",
    "    - Usage: RoC Curve implementation, Graphing\n",
    "    - Verification: Gave Chat the algorithm and only had it produce the code based on my instruction; manually input the code\n",
    "Prohibited Use Compliance: Confirmed\n",
    "\n",
    "This script is modifed based on Craig's autoencoder. \n",
    "\"\"\""
   ]
  },
  {
   "cell_type": "code",
   "execution_count": 170,
   "id": "76de2d19",
   "metadata": {},
   "outputs": [],
   "source": [
    "import numpy as np\n",
    "import pandas as pd\n",
    "import matplotlib.pyplot as plt\n",
    "import seaborn as sns\n",
    "from sklearn.impute import SimpleImputer\n",
    "from sklearn.preprocessing import MinMaxScaler\n",
    "from sklearn.metrics import f1_score, classification_report, confusion_matrix\n",
    "from keras import layers, regularizers, callbacks, Sequential\n",
    "from sklearn.metrics import roc_curve"
   ]
  },
  {
   "cell_type": "code",
   "execution_count": 171,
   "id": "77874105",
   "metadata": {},
   "outputs": [],
   "source": [
    "DATA_DIR = \"./processed_data\"\n",
    "\n",
    "train_df = pd.read_csv(f\"{DATA_DIR}/X_train.csv\")\n",
    "val_df   = pd.read_csv(f\"{DATA_DIR}/X_val.csv\")\n",
    "test_df  = pd.read_csv(f\"{DATA_DIR}/X_test.csv\")\n",
    "y_test   = pd.read_csv(f\"{DATA_DIR}/y_test.csv\").iloc[:, 0]\n",
    "\n",
    "# collapse all non-benign labels to generic “Attack”\n",
    "y_test_bin = (y_test != \"Benign\").astype(int).values   # 0 = Benign, 1 = Attack"
   ]
  },
  {
   "cell_type": "code",
   "execution_count": 172,
   "id": "61011e92",
   "metadata": {},
   "outputs": [],
   "source": [
    "train_benign = train_df[train_df[\"Label\"] == \"Benign\"]\n",
    "val_benign   = val_df  [val_df  [\"Label\"] == \"Benign\"]\n",
    "\n",
    "X_train_raw = train_benign.drop(columns=[\"Label\"]).values\n",
    "X_val_raw   = val_benign.drop(columns=[\"Label\"]).values\n",
    "X_test_raw  = test_df.values"
   ]
  },
  {
   "cell_type": "code",
   "execution_count": 173,
   "id": "d09b8f08",
   "metadata": {},
   "outputs": [
    {
     "name": "stdout",
     "output_type": "stream",
     "text": [
      "Handle infinite values\n",
      "Train shape: (203560, 48)   Val: (8705, 48)   Test: (117774, 48)\n"
     ]
    }
   ],
   "source": [
    "print(\"Handle infinite values\")\n",
    "X_train_raw[np.isinf(X_train_raw)] = np.nan\n",
    "X_val_raw[np.isinf(X_val_raw)] = np.nan\n",
    "X_test_raw[np.isinf(X_test_raw)] = np.nan\n",
    "\n",
    "imp = SimpleImputer(strategy=\"median\").fit(X_train_raw)\n",
    "X_train_imp = imp.transform(X_train_raw)\n",
    "X_val_imp   = imp.transform(X_val_raw)\n",
    "X_test_imp  = imp.transform(X_test_raw)\n",
    "\n",
    "scaler = MinMaxScaler().fit(X_train_imp)\n",
    "X_train = scaler.transform(X_train_imp)\n",
    "X_val   = scaler.transform(X_val_imp)\n",
    "X_test  = scaler.transform(X_test_imp)\n",
    "print(f\"Train shape: {X_train.shape}   Val: {X_val.shape}   Test: {X_test.shape}\")\n"
   ]
  },
  {
   "cell_type": "code",
   "execution_count": 174,
   "id": "c9f9eb5c",
   "metadata": {},
   "outputs": [
    {
     "data": {
      "text/html": [
       "<pre style=\"white-space:pre;overflow-x:auto;line-height:normal;font-family:Menlo,'DejaVu Sans Mono',consolas,'Courier New',monospace\"><span style=\"font-weight: bold\">Model: \"denoising_autoencoder\"</span>\n",
       "</pre>\n"
      ],
      "text/plain": [
       "\u001b[1mModel: \"denoising_autoencoder\"\u001b[0m\n"
      ]
     },
     "metadata": {},
     "output_type": "display_data"
    },
    {
     "data": {
      "text/html": [
       "<pre style=\"white-space:pre;overflow-x:auto;line-height:normal;font-family:Menlo,'DejaVu Sans Mono',consolas,'Courier New',monospace\">┏━━━━━━━━━━━━━━━━━━━━━━━━━━━━━━━━━┳━━━━━━━━━━━━━━━━━━━━━━━━┳━━━━━━━━━━━━━━━┓\n",
       "┃<span style=\"font-weight: bold\"> Layer (type)                    </span>┃<span style=\"font-weight: bold\"> Output Shape           </span>┃<span style=\"font-weight: bold\">       Param # </span>┃\n",
       "┡━━━━━━━━━━━━━━━━━━━━━━━━━━━━━━━━━╇━━━━━━━━━━━━━━━━━━━━━━━━╇━━━━━━━━━━━━━━━┩\n",
       "│ gaussian_noise_24               │ (<span style=\"color: #00d7ff; text-decoration-color: #00d7ff\">None</span>, <span style=\"color: #00af00; text-decoration-color: #00af00\">48</span>)             │             <span style=\"color: #00af00; text-decoration-color: #00af00\">0</span> │\n",
       "│ (<span style=\"color: #0087ff; text-decoration-color: #0087ff\">GaussianNoise</span>)                 │                        │               │\n",
       "├─────────────────────────────────┼────────────────────────┼───────────────┤\n",
       "│ dense_152 (<span style=\"color: #0087ff; text-decoration-color: #0087ff\">Dense</span>)               │ (<span style=\"color: #00d7ff; text-decoration-color: #00d7ff\">None</span>, <span style=\"color: #00af00; text-decoration-color: #00af00\">32</span>)             │         <span style=\"color: #00af00; text-decoration-color: #00af00\">1,568</span> │\n",
       "├─────────────────────────────────┼────────────────────────┼───────────────┤\n",
       "│ dense_153 (<span style=\"color: #0087ff; text-decoration-color: #0087ff\">Dense</span>)               │ (<span style=\"color: #00d7ff; text-decoration-color: #00d7ff\">None</span>, <span style=\"color: #00af00; text-decoration-color: #00af00\">16</span>)             │           <span style=\"color: #00af00; text-decoration-color: #00af00\">528</span> │\n",
       "├─────────────────────────────────┼────────────────────────┼───────────────┤\n",
       "│ dense_154 (<span style=\"color: #0087ff; text-decoration-color: #0087ff\">Dense</span>)               │ (<span style=\"color: #00d7ff; text-decoration-color: #00d7ff\">None</span>, <span style=\"color: #00af00; text-decoration-color: #00af00\">8</span>)              │           <span style=\"color: #00af00; text-decoration-color: #00af00\">136</span> │\n",
       "├─────────────────────────────────┼────────────────────────┼───────────────┤\n",
       "│ dense_155 (<span style=\"color: #0087ff; text-decoration-color: #0087ff\">Dense</span>)               │ (<span style=\"color: #00d7ff; text-decoration-color: #00d7ff\">None</span>, <span style=\"color: #00af00; text-decoration-color: #00af00\">16</span>)             │           <span style=\"color: #00af00; text-decoration-color: #00af00\">144</span> │\n",
       "├─────────────────────────────────┼────────────────────────┼───────────────┤\n",
       "│ dense_156 (<span style=\"color: #0087ff; text-decoration-color: #0087ff\">Dense</span>)               │ (<span style=\"color: #00d7ff; text-decoration-color: #00d7ff\">None</span>, <span style=\"color: #00af00; text-decoration-color: #00af00\">32</span>)             │           <span style=\"color: #00af00; text-decoration-color: #00af00\">544</span> │\n",
       "├─────────────────────────────────┼────────────────────────┼───────────────┤\n",
       "│ dense_157 (<span style=\"color: #0087ff; text-decoration-color: #0087ff\">Dense</span>)               │ (<span style=\"color: #00d7ff; text-decoration-color: #00d7ff\">None</span>, <span style=\"color: #00af00; text-decoration-color: #00af00\">48</span>)             │         <span style=\"color: #00af00; text-decoration-color: #00af00\">1,584</span> │\n",
       "└─────────────────────────────────┴────────────────────────┴───────────────┘\n",
       "</pre>\n"
      ],
      "text/plain": [
       "┏━━━━━━━━━━━━━━━━━━━━━━━━━━━━━━━━━┳━━━━━━━━━━━━━━━━━━━━━━━━┳━━━━━━━━━━━━━━━┓\n",
       "┃\u001b[1m \u001b[0m\u001b[1mLayer (type)                   \u001b[0m\u001b[1m \u001b[0m┃\u001b[1m \u001b[0m\u001b[1mOutput Shape          \u001b[0m\u001b[1m \u001b[0m┃\u001b[1m \u001b[0m\u001b[1m      Param #\u001b[0m\u001b[1m \u001b[0m┃\n",
       "┡━━━━━━━━━━━━━━━━━━━━━━━━━━━━━━━━━╇━━━━━━━━━━━━━━━━━━━━━━━━╇━━━━━━━━━━━━━━━┩\n",
       "│ gaussian_noise_24               │ (\u001b[38;5;45mNone\u001b[0m, \u001b[38;5;34m48\u001b[0m)             │             \u001b[38;5;34m0\u001b[0m │\n",
       "│ (\u001b[38;5;33mGaussianNoise\u001b[0m)                 │                        │               │\n",
       "├─────────────────────────────────┼────────────────────────┼───────────────┤\n",
       "│ dense_152 (\u001b[38;5;33mDense\u001b[0m)               │ (\u001b[38;5;45mNone\u001b[0m, \u001b[38;5;34m32\u001b[0m)             │         \u001b[38;5;34m1,568\u001b[0m │\n",
       "├─────────────────────────────────┼────────────────────────┼───────────────┤\n",
       "│ dense_153 (\u001b[38;5;33mDense\u001b[0m)               │ (\u001b[38;5;45mNone\u001b[0m, \u001b[38;5;34m16\u001b[0m)             │           \u001b[38;5;34m528\u001b[0m │\n",
       "├─────────────────────────────────┼────────────────────────┼───────────────┤\n",
       "│ dense_154 (\u001b[38;5;33mDense\u001b[0m)               │ (\u001b[38;5;45mNone\u001b[0m, \u001b[38;5;34m8\u001b[0m)              │           \u001b[38;5;34m136\u001b[0m │\n",
       "├─────────────────────────────────┼────────────────────────┼───────────────┤\n",
       "│ dense_155 (\u001b[38;5;33mDense\u001b[0m)               │ (\u001b[38;5;45mNone\u001b[0m, \u001b[38;5;34m16\u001b[0m)             │           \u001b[38;5;34m144\u001b[0m │\n",
       "├─────────────────────────────────┼────────────────────────┼───────────────┤\n",
       "│ dense_156 (\u001b[38;5;33mDense\u001b[0m)               │ (\u001b[38;5;45mNone\u001b[0m, \u001b[38;5;34m32\u001b[0m)             │           \u001b[38;5;34m544\u001b[0m │\n",
       "├─────────────────────────────────┼────────────────────────┼───────────────┤\n",
       "│ dense_157 (\u001b[38;5;33mDense\u001b[0m)               │ (\u001b[38;5;45mNone\u001b[0m, \u001b[38;5;34m48\u001b[0m)             │         \u001b[38;5;34m1,584\u001b[0m │\n",
       "└─────────────────────────────────┴────────────────────────┴───────────────┘\n"
      ]
     },
     "metadata": {},
     "output_type": "display_data"
    },
    {
     "data": {
      "text/html": [
       "<pre style=\"white-space:pre;overflow-x:auto;line-height:normal;font-family:Menlo,'DejaVu Sans Mono',consolas,'Courier New',monospace\"><span style=\"font-weight: bold\"> Total params: </span><span style=\"color: #00af00; text-decoration-color: #00af00\">4,504</span> (17.59 KB)\n",
       "</pre>\n"
      ],
      "text/plain": [
       "\u001b[1m Total params: \u001b[0m\u001b[38;5;34m4,504\u001b[0m (17.59 KB)\n"
      ]
     },
     "metadata": {},
     "output_type": "display_data"
    },
    {
     "data": {
      "text/html": [
       "<pre style=\"white-space:pre;overflow-x:auto;line-height:normal;font-family:Menlo,'DejaVu Sans Mono',consolas,'Courier New',monospace\"><span style=\"font-weight: bold\"> Trainable params: </span><span style=\"color: #00af00; text-decoration-color: #00af00\">4,504</span> (17.59 KB)\n",
       "</pre>\n"
      ],
      "text/plain": [
       "\u001b[1m Trainable params: \u001b[0m\u001b[38;5;34m4,504\u001b[0m (17.59 KB)\n"
      ]
     },
     "metadata": {},
     "output_type": "display_data"
    },
    {
     "data": {
      "text/html": [
       "<pre style=\"white-space:pre;overflow-x:auto;line-height:normal;font-family:Menlo,'DejaVu Sans Mono',consolas,'Courier New',monospace\"><span style=\"font-weight: bold\"> Non-trainable params: </span><span style=\"color: #00af00; text-decoration-color: #00af00\">0</span> (0.00 B)\n",
       "</pre>\n"
      ],
      "text/plain": [
       "\u001b[1m Non-trainable params: \u001b[0m\u001b[38;5;34m0\u001b[0m (0.00 B)\n"
      ]
     },
     "metadata": {},
     "output_type": "display_data"
    },
    {
     "name": "stdout",
     "output_type": "stream",
     "text": [
      "Epoch 1/200\n",
      "796/796 - 1s - 1ms/step - loss: 0.0228 - val_loss: 0.0079\n",
      "Epoch 2/200\n",
      "796/796 - 0s - 520us/step - loss: 0.0058 - val_loss: 0.0044\n",
      "Epoch 3/200\n",
      "796/796 - 0s - 519us/step - loss: 0.0041 - val_loss: 0.0037\n",
      "Epoch 4/200\n",
      "796/796 - 0s - 544us/step - loss: 0.0036 - val_loss: 0.0033\n",
      "Epoch 5/200\n",
      "796/796 - 0s - 521us/step - loss: 0.0032 - val_loss: 0.0030\n",
      "Epoch 6/200\n",
      "796/796 - 0s - 542us/step - loss: 0.0030 - val_loss: 0.0032\n",
      "Epoch 7/200\n",
      "796/796 - 0s - 544us/step - loss: 0.0028 - val_loss: 0.0026\n",
      "Epoch 8/200\n",
      "796/796 - 0s - 541us/step - loss: 0.0026 - val_loss: 0.0024\n",
      "Epoch 9/200\n",
      "796/796 - 0s - 553us/step - loss: 0.0024 - val_loss: 0.0024\n",
      "Epoch 10/200\n",
      "796/796 - 0s - 555us/step - loss: 0.0023 - val_loss: 0.0021\n",
      "Epoch 11/200\n",
      "796/796 - 0s - 532us/step - loss: 0.0021 - val_loss: 0.0020\n",
      "Epoch 12/200\n",
      "796/796 - 0s - 531us/step - loss: 0.0020 - val_loss: 0.0019\n",
      "Epoch 13/200\n",
      "796/796 - 0s - 558us/step - loss: 0.0019 - val_loss: 0.0019\n",
      "Epoch 14/200\n",
      "796/796 - 0s - 570us/step - loss: 0.0019 - val_loss: 0.0019\n",
      "Epoch 15/200\n",
      "796/796 - 0s - 560us/step - loss: 0.0018 - val_loss: 0.0017\n",
      "Epoch 16/200\n",
      "796/796 - 0s - 542us/step - loss: 0.0018 - val_loss: 0.0016\n",
      "Epoch 17/200\n",
      "796/796 - 0s - 551us/step - loss: 0.0017 - val_loss: 0.0016\n",
      "Epoch 18/200\n",
      "796/796 - 0s - 555us/step - loss: 0.0017 - val_loss: 0.0016\n",
      "Epoch 19/200\n",
      "796/796 - 0s - 525us/step - loss: 0.0017 - val_loss: 0.0015\n",
      "Epoch 20/200\n",
      "796/796 - 0s - 512us/step - loss: 0.0016 - val_loss: 0.0016\n",
      "Epoch 21/200\n",
      "796/796 - 0s - 515us/step - loss: 0.0016 - val_loss: 0.0017\n",
      "Epoch 22/200\n",
      "796/796 - 0s - 513us/step - loss: 0.0016 - val_loss: 0.0015\n",
      "Epoch 23/200\n",
      "796/796 - 0s - 515us/step - loss: 0.0016 - val_loss: 0.0016\n",
      "Epoch 24/200\n",
      "796/796 - 0s - 514us/step - loss: 0.0016 - val_loss: 0.0014\n",
      "Epoch 25/200\n",
      "796/796 - 0s - 544us/step - loss: 0.0015 - val_loss: 0.0015\n",
      "Epoch 26/200\n",
      "796/796 - 0s - 518us/step - loss: 0.0015 - val_loss: 0.0014\n",
      "Epoch 27/200\n",
      "796/796 - 0s - 518us/step - loss: 0.0015 - val_loss: 0.0014\n",
      "Epoch 28/200\n",
      "796/796 - 0s - 520us/step - loss: 0.0015 - val_loss: 0.0014\n",
      "Epoch 29/200\n",
      "796/796 - 0s - 523us/step - loss: 0.0015 - val_loss: 0.0014\n",
      "Epoch 30/200\n",
      "796/796 - 0s - 536us/step - loss: 0.0015 - val_loss: 0.0014\n",
      "Epoch 31/200\n",
      "796/796 - 0s - 537us/step - loss: 0.0014 - val_loss: 0.0014\n",
      "Epoch 32/200\n",
      "796/796 - 0s - 548us/step - loss: 0.0014 - val_loss: 0.0014\n",
      "Epoch 33/200\n",
      "796/796 - 0s - 553us/step - loss: 0.0014 - val_loss: 0.0013\n",
      "Epoch 34/200\n",
      "796/796 - 0s - 549us/step - loss: 0.0014 - val_loss: 0.0013\n",
      "Epoch 35/200\n",
      "796/796 - 0s - 551us/step - loss: 0.0014 - val_loss: 0.0013\n",
      "Epoch 36/200\n",
      "796/796 - 0s - 540us/step - loss: 0.0014 - val_loss: 0.0014\n",
      "Epoch 37/200\n",
      "796/796 - 0s - 540us/step - loss: 0.0014 - val_loss: 0.0013\n",
      "Epoch 38/200\n",
      "796/796 - 0s - 544us/step - loss: 0.0014 - val_loss: 0.0014\n",
      "Epoch 39/200\n",
      "796/796 - 0s - 517us/step - loss: 0.0014 - val_loss: 0.0013\n",
      "Epoch 40/200\n",
      "796/796 - 0s - 549us/step - loss: 0.0014 - val_loss: 0.0013\n",
      "Epoch 41/200\n",
      "796/796 - 0s - 557us/step - loss: 0.0013 - val_loss: 0.0013\n",
      "Epoch 42/200\n",
      "796/796 - 0s - 535us/step - loss: 0.0013 - val_loss: 0.0013\n",
      "Epoch 43/200\n",
      "796/796 - 0s - 557us/step - loss: 0.0013 - val_loss: 0.0012\n",
      "Epoch 44/200\n",
      "796/796 - 0s - 540us/step - loss: 0.0013 - val_loss: 0.0012\n",
      "Epoch 45/200\n",
      "796/796 - 0s - 534us/step - loss: 0.0013 - val_loss: 0.0013\n",
      "Epoch 46/200\n",
      "796/796 - 0s - 541us/step - loss: 0.0013 - val_loss: 0.0012\n",
      "Epoch 47/200\n",
      "796/796 - 0s - 527us/step - loss: 0.0013 - val_loss: 0.0014\n",
      "Epoch 48/200\n",
      "796/796 - 0s - 566us/step - loss: 0.0013 - val_loss: 0.0012\n",
      "Epoch 49/200\n",
      "796/796 - 0s - 537us/step - loss: 0.0013 - val_loss: 0.0012\n",
      "Epoch 50/200\n",
      "796/796 - 0s - 516us/step - loss: 0.0013 - val_loss: 0.0012\n",
      "Epoch 51/200\n",
      "796/796 - 0s - 521us/step - loss: 0.0013 - val_loss: 0.0013\n",
      "Epoch 52/200\n",
      "796/796 - 0s - 521us/step - loss: 0.0013 - val_loss: 0.0012\n",
      "Epoch 53/200\n",
      "796/796 - 0s - 592us/step - loss: 0.0013 - val_loss: 0.0011\n",
      "Epoch 54/200\n",
      "796/796 - 0s - 554us/step - loss: 0.0013 - val_loss: 0.0012\n",
      "Epoch 55/200\n",
      "796/796 - 0s - 525us/step - loss: 0.0012 - val_loss: 0.0013\n",
      "Epoch 56/200\n",
      "796/796 - 0s - 527us/step - loss: 0.0013 - val_loss: 0.0012\n",
      "Epoch 57/200\n",
      "796/796 - 0s - 583us/step - loss: 0.0012 - val_loss: 0.0011\n",
      "Epoch 58/200\n",
      "796/796 - 0s - 567us/step - loss: 0.0012 - val_loss: 0.0011\n",
      "Epoch 59/200\n",
      "796/796 - 0s - 537us/step - loss: 0.0012 - val_loss: 0.0013\n",
      "Epoch 60/200\n",
      "796/796 - 0s - 574us/step - loss: 0.0012 - val_loss: 0.0011\n",
      "Epoch 61/200\n",
      "796/796 - 0s - 559us/step - loss: 0.0012 - val_loss: 0.0018\n",
      "Epoch 62/200\n",
      "796/796 - 0s - 584us/step - loss: 0.0012 - val_loss: 0.0012\n",
      "Epoch 63/200\n",
      "796/796 - 0s - 563us/step - loss: 0.0012 - val_loss: 0.0011\n",
      "Epoch 64/200\n",
      "796/796 - 0s - 540us/step - loss: 0.0012 - val_loss: 0.0011\n",
      "Epoch 65/200\n",
      "796/796 - 0s - 530us/step - loss: 0.0012 - val_loss: 0.0011\n",
      "Epoch 66/200\n",
      "796/796 - 0s - 534us/step - loss: 0.0012 - val_loss: 0.0011\n",
      "Epoch 67/200\n",
      "796/796 - 0s - 547us/step - loss: 0.0012 - val_loss: 0.0011\n",
      "Epoch 68/200\n",
      "796/796 - 0s - 528us/step - loss: 0.0012 - val_loss: 0.0011\n",
      "Epoch 69/200\n",
      "796/796 - 0s - 540us/step - loss: 0.0012 - val_loss: 0.0012\n",
      "Epoch 70/200\n",
      "796/796 - 0s - 561us/step - loss: 0.0011 - val_loss: 0.0011\n",
      "Epoch 71/200\n",
      "796/796 - 0s - 539us/step - loss: 0.0011 - val_loss: 0.0011\n",
      "Epoch 72/200\n",
      "796/796 - 0s - 545us/step - loss: 0.0011 - val_loss: 0.0011\n",
      "Epoch 73/200\n",
      "796/796 - 0s - 567us/step - loss: 0.0011 - val_loss: 0.0011\n",
      "Epoch 74/200\n",
      "796/796 - 0s - 526us/step - loss: 0.0011 - val_loss: 0.0012\n",
      "Epoch 75/200\n",
      "796/796 - 0s - 535us/step - loss: 0.0011 - val_loss: 0.0011\n",
      "Epoch 76/200\n",
      "796/796 - 0s - 537us/step - loss: 0.0011 - val_loss: 0.0010\n",
      "Epoch 77/200\n",
      "796/796 - 0s - 556us/step - loss: 0.0011 - val_loss: 0.0011\n",
      "Epoch 78/200\n",
      "796/796 - 0s - 555us/step - loss: 0.0011 - val_loss: 0.0010\n",
      "Epoch 79/200\n",
      "796/796 - 0s - 564us/step - loss: 0.0011 - val_loss: 0.0011\n",
      "Epoch 80/200\n",
      "796/796 - 0s - 578us/step - loss: 0.0011 - val_loss: 0.0011\n",
      "Epoch 81/200\n",
      "796/796 - 0s - 537us/step - loss: 0.0011 - val_loss: 0.0011\n",
      "Epoch 82/200\n",
      "796/796 - 0s - 525us/step - loss: 0.0011 - val_loss: 0.0010\n",
      "Epoch 83/200\n",
      "796/796 - 0s - 527us/step - loss: 0.0011 - val_loss: 0.0010\n",
      "Epoch 84/200\n",
      "796/796 - 0s - 552us/step - loss: 0.0011 - val_loss: 0.0012\n",
      "Epoch 85/200\n",
      "796/796 - 0s - 542us/step - loss: 0.0011 - val_loss: 0.0012\n",
      "Epoch 86/200\n",
      "796/796 - 0s - 579us/step - loss: 0.0011 - val_loss: 9.7301e-04\n",
      "Epoch 87/200\n",
      "796/796 - 0s - 568us/step - loss: 0.0011 - val_loss: 0.0010\n",
      "Epoch 88/200\n",
      "796/796 - 0s - 546us/step - loss: 0.0011 - val_loss: 0.0010\n",
      "Epoch 89/200\n",
      "796/796 - 0s - 555us/step - loss: 0.0011 - val_loss: 0.0011\n",
      "Epoch 90/200\n",
      "796/796 - 0s - 557us/step - loss: 0.0011 - val_loss: 9.9163e-04\n",
      "Epoch 91/200\n",
      "796/796 - 0s - 567us/step - loss: 0.0011 - val_loss: 0.0010\n",
      "Epoch 92/200\n",
      "796/796 - 0s - 547us/step - loss: 0.0011 - val_loss: 0.0011\n",
      "Epoch 93/200\n",
      "796/796 - 0s - 564us/step - loss: 0.0011 - val_loss: 9.8129e-04\n",
      "Epoch 94/200\n",
      "796/796 - 0s - 558us/step - loss: 0.0011 - val_loss: 9.7470e-04\n"
     ]
    }
   ],
   "source": [
    "input_dim = X_train.shape[1]  \n",
    "\n",
    "denoise_auto = Sequential([\n",
    "    layers.Input((input_dim,)),\n",
    "    layers.GaussianNoise(0.0125, seed=520),          # add Gaussian noise (std=0.025)\n",
    "    layers.Dense(32, activation=\"relu\"),\n",
    "    layers.Dense(16, activation=\"relu\",\n",
    "                 activity_regularizer=regularizers.l1(1e-5)),\n",
    "    layers.Dense(8, activation=\"relu\"),  \n",
    "    layers.Dense(16, activation=\"relu\"),\n",
    "    layers.Dense(32, activation=\"relu\"),\n",
    "    layers.Dense(input_dim, activation=\"linear\"),\n",
    "], name=\"denoising_autoencoder\")\n",
    "\n",
    "denoise_auto.compile(optimizer=\"adam\", loss=\"mse\")\n",
    "denoise_auto.summary()\n",
    "\n",
    "early = callbacks.EarlyStopping(monitor=\"val_loss\", patience=8, restore_best_weights=True)\n",
    "history = denoise_auto.fit(\n",
    "    X_train, X_train,\n",
    "    validation_data=(X_val, X_val),\n",
    "    epochs=200,\n",
    "    batch_size=256,\n",
    "    shuffle=True,\n",
    "    callbacks=[early],\n",
    "    verbose=2\n",
    ")\n"
   ]
  },
  {
   "cell_type": "code",
   "execution_count": 175,
   "id": "7ad985a4",
   "metadata": {},
   "outputs": [
    {
     "name": "stdout",
     "output_type": "stream",
     "text": [
      "\u001b[1m585/585\u001b[0m \u001b[32m━━━━━━━━━━━━━━━━━━━━\u001b[0m\u001b[37m\u001b[0m \u001b[1m0s\u001b[0m 206us/step\n"
     ]
    },
    {
     "data": {
      "image/png": "[encoded data removed]",
      "text/plain": [
       "<Figure size 640x480 with 1 Axes>"
      ]
     },
     "metadata": {},
     "output_type": "display_data"
    },
    {
     "name": "stdout",
     "output_type": "stream",
     "text": [
      "[ROC F1] Best threshold: 0.001155 with F1: 0.933\n"
     ]
    }
   ],
   "source": [
    "ben_sample = X_val[:10000]\n",
    "atk_sample = X_test[y_test_bin == 1][:10000]\n",
    "mix_X  = np.vstack([ben_sample, atk_sample])\n",
    "mix_y  = np.hstack([np.zeros(len(ben_sample)), np.ones(len(atk_sample))])\n",
    "\n",
    "mix_err = np.mean((denoise_auto.predict(mix_X) - mix_X)**2, axis=1)\n",
    "\n",
    "mix_y_bin = mix_y.astype(int)\n",
    "\n",
    "fpr, tpr, thresholds = roc_curve(mix_y_bin, mix_err)\n",
    "\n",
    "best_f1 = 0\n",
    "best_thr = None\n",
    "for thr in thresholds:\n",
    "    y_pred = (mix_err > thr).astype(int)\n",
    "    f1 = f1_score(mix_y_bin, y_pred)\n",
    "    if f1 > best_f1:\n",
    "        best_f1 = f1\n",
    "        best_thr = thr\n",
    "\n",
    "f1_scores = []\n",
    "thresholds = np.linspace(np.min(mix_err), np.max(mix_err), 200)\n",
    "for thr in thresholds:\n",
    "    y_pred = (mix_err > thr).astype(int)\n",
    "    f1 = f1_score(mix_y_bin, y_pred)\n",
    "    f1_scores.append(f1)\n",
    "\n",
    "plt.plot(thresholds, f1_scores)\n",
    "plt.xlabel(\"Threshold\")\n",
    "plt.ylabel(\"F1 Score\")\n",
    "plt.title(\"F1 Score vs Threshold\")\n",
    "plt.grid(True)\n",
    "plt.show()\n",
    "\n",
    "print(f\"[ROC F1] Best threshold: {best_thr:.6f} with F1: {best_f1:.3f}\")"
   ]
  },
  {
   "cell_type": "code",
   "execution_count": 176,
   "id": "53708d4c",
   "metadata": {},
   "outputs": [
    {
     "name": "stdout",
     "output_type": "stream",
     "text": [
      "\u001b[1m3681/3681\u001b[0m \u001b[32m━━━━━━━━━━━━━━━━━━━━\u001b[0m\u001b[37m\u001b[0m \u001b[1m1s\u001b[0m 167us/step\n",
      "\n",
      "Classification Report (Benign = 0, Attack = 1):\n",
      "              precision    recall  f1-score   support\n",
      "\n",
      "           0      1.000     0.832     0.908     78535\n",
      "           1      0.749     0.999     0.856     39239\n",
      "\n",
      "    accuracy                          0.888    117774\n",
      "   macro avg      0.874     0.916     0.882    117774\n",
      "weighted avg      0.916     0.888     0.891    117774\n",
      "\n",
      "\n",
      "Readable Confusion Matrix:\n",
      "                    Predicted: Benign (0)  Predicted: Attack (1)\n",
      "Actual: Benign (0)                  65371                  13164\n",
      "Actual: Attack (1)                     23                  39216\n"
     ]
    },
    {
     "data": {
      "image/png": "[encoded data removed]",
      "text/plain": [
       "<Figure size 700x400 with 1 Axes>"
      ]
     },
     "metadata": {},
     "output_type": "display_data"
    }
   ],
   "source": [
    "test_err = np.mean((denoise_auto.predict(X_test) - X_test) ** 2, axis=1)\n",
    "y_pred = (test_err > best_thr).astype(int)\n",
    "\n",
    "# Classification report\n",
    "print(\"\\nClassification Report (Benign = 0, Attack = 1):\")\n",
    "print(classification_report(y_test_bin, y_pred, digits=3))\n",
    "\n",
    "# Confusion matrix (with readable labels)\n",
    "conf_mat = confusion_matrix(y_test_bin, y_pred)\n",
    "conf_df = pd.DataFrame(\n",
    "    conf_mat,\n",
    "    index=[\"Actual: Benign (0)\", \"Actual: Attack (1)\"],\n",
    "    columns=[\"Predicted: Benign (0)\", \"Predicted: Attack (1)\"]\n",
    ")\n",
    "print(\"\\nReadable Confusion Matrix:\")\n",
    "print(conf_df)\n",
    "\n",
    "# Plot\n",
    "plt.figure(figsize=(7, 4))\n",
    "sns.histplot(test_err[y_test_bin == 0], bins=100, stat=\"density\",\n",
    "             label=\"Benign\", color=\"blue\", alpha=0.6)\n",
    "sns.histplot(test_err[y_test_bin == 1], bins=100, stat=\"density\",\n",
    "             label=\"Attack\", color=\"red\", alpha=0.6)\n",
    "plt.axvline(best_thr, ls=\"--\", c=\"k\", label=f\"thr={best_thr:.2g}\")\n",
    "plt.xscale(\"log\")\n",
    "plt.legend()\n",
    "plt.title(\"Reconstruction-error distribution\")\n",
    "plt.xlabel(\"MSE\")\n",
    "plt.tight_layout()\n",
    "plt.show()"
   ]
  }
 ],
 "metadata": {
  "kernelspec": {
   "display_name": ".venv",
   "language": "python",
   "name": "python3"
  },
  "language_info": {
   "codemirror_mode": {
    "name": "ipython",
    "version": 3
   },
   "file_extension": ".py",
   "mimetype": "text/x-python",
   "name": "python",
   "nbconvert_exporter": "python",
   "pygments_lexer": "ipython3",
   "version": "3.12.7"
  }
 },
 "nbformat": 4,
 "nbformat_minor": 5
}
