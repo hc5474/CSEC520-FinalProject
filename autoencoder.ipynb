{
 "cells": [
  {
   "cell_type": "code",
   "execution_count": 45,
   "id": "e699671a",
   "metadata": {},
   "outputs": [
    {
     "data": {
      "text/plain": [
       "'\\nAI Usage Statement (Craig Woolley)\\nTools Used: Gemini\\n    - Usage: Code for handling infinite values and NaN, Model architecture, understanding compiling model, evaluating performance\\n    - Verification: Code are manually written\\nProhibited Use Compliance: Confirmed\\n\\n'"
      ]
     },
     "execution_count": 45,
     "metadata": {},
     "output_type": "execute_result"
    }
   ],
   "source": [
    "\"\"\"\n",
    "AI Usage Statement (Craig Woolley)\n",
    "Tools Used: Gemini\n",
    "    - Usage: Code for handling infinite values and NaN, Model architecture, understanding compiling model, evaluating performance\n",
    "    - Verification: Code are manually written\n",
    "Prohibited Use Compliance: Confirmed\n",
    "\n",
    "\"\"\""
   ]
  },
  {
   "cell_type": "code",
   "execution_count": 46,
   "id": "bff1ec78",
   "metadata": {},
   "outputs": [],
   "source": [
    "import pandas as pd\n",
    "import numpy as np\n",
    "import tensorflow as tf\n",
    "import matplotlib.pyplot as plt\n",
    "import keras\n",
    "\n",
    "from sklearn.metrics import accuracy_score, precision_score, recall_score, f1_score, classification_report, confusion_matrix\n",
    "from sklearn.preprocessing import MinMaxScaler\n",
    "from sklearn.impute import SimpleImputer \n",
    "from keras import layers, losses, datasets, models\n",
    "\n"
   ]
  },
  {
   "cell_type": "code",
   "execution_count": null,
   "id": "fd45b7c9",
   "metadata": {},
   "outputs": [],
   "source": [
    "\"\"\"\n",
    "Load and preprocess data \n",
    "\"\"\"\n",
    "\n",
    "# sepcify the file path for the processed data\n",
    "DATA_DIR = \"./processed_data\"\n",
    "# get the processed data X_train, X_val, X_test, y_test\n",
    "train_df = pd.read_csv(f\"{DATA_DIR}/X_train.csv\")\n",
    "val_df   = pd.read_csv(f\"{DATA_DIR}/X_val.csv\")\n",
    "test_df  = pd.read_csv(f\"{DATA_DIR}/X_test.csv\")\n",
    "y_test   = pd.read_csv(f\"{DATA_DIR}/y_test.csv\").iloc[:, 0]\n",
    "\n",
    "# convert the test labels into a binary format 0 for benign and 1 for attack\n",
    "y_test_bin = (y_test != \"Benign\").astype(int).values   \n",
    "# seperate the benign sampels from the training and validaion datasets\n",
    "train_benign = train_df[train_df[\"Label\"] == \"Benign\"]\n",
    "val_benign   = val_df  [val_df  [\"Label\"] == \"Benign\"]\n",
    "# remove the label column and extract only the features into numpy arrays\n",
    "X_train_raw = train_benign.drop(columns=[\"Label\"]).values\n",
    "X_val_raw   = val_benign.drop(columns=[\"Label\"]).values\n",
    "X_test_raw  = test_df.values"
   ]
  },
  {
   "cell_type": "code",
   "execution_count": null,
   "id": "6fcb19c6",
   "metadata": {},
   "outputs": [
    {
     "name": "stdout",
     "output_type": "stream",
     "text": [
      "Handle infinite values\n"
     ]
    }
   ],
   "source": [
    "\"\"\" \n",
    "Impute missing values in the training set using the median of each column\n",
    "\"\"\"\n",
    "\n",
    "print(\"Handle infinite values\")\n",
    "# replace any infinite values with nan\n",
    "# Simple IMputer cannot handle inf but it can handle nan\n",
    "X_train_raw[np.isinf(X_train_raw)] = np.nan\n",
    "X_val_raw[np.isinf(X_val_raw)] = np.nan\n",
    "X_test_raw[np.isinf(X_test_raw)] = np.nan\n",
    "# use simpleimputer function to replace missing values with the median value of each column\n",
    "imp = SimpleImputer(strategy=\"median\").fit(X_train_raw)\n",
    "# use imputer on train, validatoin, and test\n",
    "X_train_imp = imp.transform(X_train_raw)\n",
    "X_val_imp   = imp.transform(X_val_raw)\n",
    "X_test_imp  = imp.transform(X_test_raw)\n",
    "\n",
    "\n"
   ]
  },
  {
   "cell_type": "code",
   "execution_count": null,
   "id": "4a0e90e1",
   "metadata": {},
   "outputs": [
    {
     "name": "stdout",
     "output_type": "stream",
     "text": [
      "Train shape: (204896, 79)   Val: (8882, 79)   Test: (118585, 79)\n",
      "X_train_scaled range: 0.0 to 1.0000000000000002\n",
      "X_val_scaled range:   0.0 to 1.0429159883594235\n",
      "X_test_scaled range:  0.0 to 2.9848533677086695\n"
     ]
    }
   ],
   "source": [
    "\"\"\"\n",
    "Normalize features across train, validation, and test datasets using MinMaxScaler function\n",
    "\"\"\"\n",
    "\n",
    "# Use scaler to learn the min max values but only for the training data\n",
    "scaler = MinMaxScaler().fit(X_train_imp)\n",
    "X_train = X_train_imp\n",
    "X_val   = X_val_imp\n",
    "X_test  = X_test_imp\n",
    "print(f\"Train shape: {X_train.shape}   Val: {X_val.shape}   Test: {X_test.shape}\")\n",
    "scaler = MinMaxScaler()\n",
    "scaler.fit(X_train)\n",
    "# transform the rest of the datasets using the same MinMaxScaler\n",
    "X_train_scaled = scaler.transform(X_train)\n",
    "X_val_scaled = scaler.transform(X_val)\n",
    "X_test_scaled = scaler.transform(X_test)\n",
    "# output the scaled ranges to confirm it's working properly\n",
    "print(f\"X_train_scaled range: {X_train_scaled.min()} to {X_train_scaled.max()}\")\n",
    "print(f\"X_val_scaled range:   {X_val_scaled.min()} to {X_val_scaled.max()}\")\n",
    "print(f\"X_test_scaled range:  {X_test_scaled.min()} to {X_test_scaled.max()}\")"
   ]
  },
  {
   "cell_type": "code",
   "execution_count": null,
   "id": "50ae373b",
   "metadata": {},
   "outputs": [
    {
     "name": "stdout",
     "output_type": "stream",
     "text": [
      "Input dimension: 79\n",
      "Encoding dimension: 12\n",
      "\n",
      "Model Summary:\n"
     ]
    },
    {
     "data": {
      "text/html": [
       "<pre style=\"white-space:pre;overflow-x:auto;line-height:normal;font-family:Menlo,'DejaVu Sans Mono',consolas,'Courier New',monospace\"><span style=\"font-weight: bold\">Model: \"autoencoder\"</span>\n",
       "</pre>\n"
      ],
      "text/plain": [
       "\u001b[1mModel: \"autoencoder\"\u001b[0m\n"
      ]
     },
     "metadata": {},
     "output_type": "display_data"
    },
    {
     "data": {
      "text/html": [
       "<pre style=\"white-space:pre;overflow-x:auto;line-height:normal;font-family:Menlo,'DejaVu Sans Mono',consolas,'Courier New',monospace\">┏━━━━━━━━━━━━━━━━━━━━━━━━━━━━━━━━━┳━━━━━━━━━━━━━━━━━━━━━━━━┳━━━━━━━━━━━━━━━┓\n",
       "┃<span style=\"font-weight: bold\"> Layer (type)                    </span>┃<span style=\"font-weight: bold\"> Output Shape           </span>┃<span style=\"font-weight: bold\">       Param # </span>┃\n",
       "┡━━━━━━━━━━━━━━━━━━━━━━━━━━━━━━━━━╇━━━━━━━━━━━━━━━━━━━━━━━━╇━━━━━━━━━━━━━━━┩\n",
       "│ dense_14 (<span style=\"color: #0087ff; text-decoration-color: #0087ff\">Dense</span>)                │ (<span style=\"color: #00d7ff; text-decoration-color: #00d7ff\">None</span>, <span style=\"color: #00af00; text-decoration-color: #00af00\">64</span>)             │         <span style=\"color: #00af00; text-decoration-color: #00af00\">5,120</span> │\n",
       "├─────────────────────────────────┼────────────────────────┼───────────────┤\n",
       "│ dense_15 (<span style=\"color: #0087ff; text-decoration-color: #0087ff\">Dense</span>)                │ (<span style=\"color: #00d7ff; text-decoration-color: #00d7ff\">None</span>, <span style=\"color: #00af00; text-decoration-color: #00af00\">48</span>)             │         <span style=\"color: #00af00; text-decoration-color: #00af00\">3,120</span> │\n",
       "├─────────────────────────────────┼────────────────────────┼───────────────┤\n",
       "│ dense_16 (<span style=\"color: #0087ff; text-decoration-color: #0087ff\">Dense</span>)                │ (<span style=\"color: #00d7ff; text-decoration-color: #00d7ff\">None</span>, <span style=\"color: #00af00; text-decoration-color: #00af00\">24</span>)             │         <span style=\"color: #00af00; text-decoration-color: #00af00\">1,176</span> │\n",
       "├─────────────────────────────────┼────────────────────────┼───────────────┤\n",
       "│ dense_17 (<span style=\"color: #0087ff; text-decoration-color: #0087ff\">Dense</span>)                │ (<span style=\"color: #00d7ff; text-decoration-color: #00d7ff\">None</span>, <span style=\"color: #00af00; text-decoration-color: #00af00\">12</span>)             │           <span style=\"color: #00af00; text-decoration-color: #00af00\">300</span> │\n",
       "├─────────────────────────────────┼────────────────────────┼───────────────┤\n",
       "│ dense_18 (<span style=\"color: #0087ff; text-decoration-color: #0087ff\">Dense</span>)                │ (<span style=\"color: #00d7ff; text-decoration-color: #00d7ff\">None</span>, <span style=\"color: #00af00; text-decoration-color: #00af00\">24</span>)             │           <span style=\"color: #00af00; text-decoration-color: #00af00\">312</span> │\n",
       "├─────────────────────────────────┼────────────────────────┼───────────────┤\n",
       "│ dense_19 (<span style=\"color: #0087ff; text-decoration-color: #0087ff\">Dense</span>)                │ (<span style=\"color: #00d7ff; text-decoration-color: #00d7ff\">None</span>, <span style=\"color: #00af00; text-decoration-color: #00af00\">48</span>)             │         <span style=\"color: #00af00; text-decoration-color: #00af00\">1,200</span> │\n",
       "├─────────────────────────────────┼────────────────────────┼───────────────┤\n",
       "│ dense_20 (<span style=\"color: #0087ff; text-decoration-color: #0087ff\">Dense</span>)                │ (<span style=\"color: #00d7ff; text-decoration-color: #00d7ff\">None</span>, <span style=\"color: #00af00; text-decoration-color: #00af00\">64</span>)             │         <span style=\"color: #00af00; text-decoration-color: #00af00\">3,136</span> │\n",
       "├─────────────────────────────────┼────────────────────────┼───────────────┤\n",
       "│ dense_21 (<span style=\"color: #0087ff; text-decoration-color: #0087ff\">Dense</span>)                │ (<span style=\"color: #00d7ff; text-decoration-color: #00d7ff\">None</span>, <span style=\"color: #00af00; text-decoration-color: #00af00\">79</span>)             │         <span style=\"color: #00af00; text-decoration-color: #00af00\">5,135</span> │\n",
       "└─────────────────────────────────┴────────────────────────┴───────────────┘\n",
       "</pre>\n"
      ],
      "text/plain": [
       "┏━━━━━━━━━━━━━━━━━━━━━━━━━━━━━━━━━┳━━━━━━━━━━━━━━━━━━━━━━━━┳━━━━━━━━━━━━━━━┓\n",
       "┃\u001b[1m \u001b[0m\u001b[1mLayer (type)                   \u001b[0m\u001b[1m \u001b[0m┃\u001b[1m \u001b[0m\u001b[1mOutput Shape          \u001b[0m\u001b[1m \u001b[0m┃\u001b[1m \u001b[0m\u001b[1m      Param #\u001b[0m\u001b[1m \u001b[0m┃\n",
       "┡━━━━━━━━━━━━━━━━━━━━━━━━━━━━━━━━━╇━━━━━━━━━━━━━━━━━━━━━━━━╇━━━━━━━━━━━━━━━┩\n",
       "│ dense_14 (\u001b[38;5;33mDense\u001b[0m)                │ (\u001b[38;5;45mNone\u001b[0m, \u001b[38;5;34m64\u001b[0m)             │         \u001b[38;5;34m5,120\u001b[0m │\n",
       "├─────────────────────────────────┼────────────────────────┼───────────────┤\n",
       "│ dense_15 (\u001b[38;5;33mDense\u001b[0m)                │ (\u001b[38;5;45mNone\u001b[0m, \u001b[38;5;34m48\u001b[0m)             │         \u001b[38;5;34m3,120\u001b[0m │\n",
       "├─────────────────────────────────┼────────────────────────┼───────────────┤\n",
       "│ dense_16 (\u001b[38;5;33mDense\u001b[0m)                │ (\u001b[38;5;45mNone\u001b[0m, \u001b[38;5;34m24\u001b[0m)             │         \u001b[38;5;34m1,176\u001b[0m │\n",
       "├─────────────────────────────────┼────────────────────────┼───────────────┤\n",
       "│ dense_17 (\u001b[38;5;33mDense\u001b[0m)                │ (\u001b[38;5;45mNone\u001b[0m, \u001b[38;5;34m12\u001b[0m)             │           \u001b[38;5;34m300\u001b[0m │\n",
       "├─────────────────────────────────┼────────────────────────┼───────────────┤\n",
       "│ dense_18 (\u001b[38;5;33mDense\u001b[0m)                │ (\u001b[38;5;45mNone\u001b[0m, \u001b[38;5;34m24\u001b[0m)             │           \u001b[38;5;34m312\u001b[0m │\n",
       "├─────────────────────────────────┼────────────────────────┼───────────────┤\n",
       "│ dense_19 (\u001b[38;5;33mDense\u001b[0m)                │ (\u001b[38;5;45mNone\u001b[0m, \u001b[38;5;34m48\u001b[0m)             │         \u001b[38;5;34m1,200\u001b[0m │\n",
       "├─────────────────────────────────┼────────────────────────┼───────────────┤\n",
       "│ dense_20 (\u001b[38;5;33mDense\u001b[0m)                │ (\u001b[38;5;45mNone\u001b[0m, \u001b[38;5;34m64\u001b[0m)             │         \u001b[38;5;34m3,136\u001b[0m │\n",
       "├─────────────────────────────────┼────────────────────────┼───────────────┤\n",
       "│ dense_21 (\u001b[38;5;33mDense\u001b[0m)                │ (\u001b[38;5;45mNone\u001b[0m, \u001b[38;5;34m79\u001b[0m)             │         \u001b[38;5;34m5,135\u001b[0m │\n",
       "└─────────────────────────────────┴────────────────────────┴───────────────┘\n"
      ]
     },
     "metadata": {},
     "output_type": "display_data"
    },
    {
     "data": {
      "text/html": [
       "<pre style=\"white-space:pre;overflow-x:auto;line-height:normal;font-family:Menlo,'DejaVu Sans Mono',consolas,'Courier New',monospace\"><span style=\"font-weight: bold\"> Total params: </span><span style=\"color: #00af00; text-decoration-color: #00af00\">19,499</span> (76.17 KB)\n",
       "</pre>\n"
      ],
      "text/plain": [
       "\u001b[1m Total params: \u001b[0m\u001b[38;5;34m19,499\u001b[0m (76.17 KB)\n"
      ]
     },
     "metadata": {},
     "output_type": "display_data"
    },
    {
     "data": {
      "text/html": [
       "<pre style=\"white-space:pre;overflow-x:auto;line-height:normal;font-family:Menlo,'DejaVu Sans Mono',consolas,'Courier New',monospace\"><span style=\"font-weight: bold\"> Trainable params: </span><span style=\"color: #00af00; text-decoration-color: #00af00\">19,499</span> (76.17 KB)\n",
       "</pre>\n"
      ],
      "text/plain": [
       "\u001b[1m Trainable params: \u001b[0m\u001b[38;5;34m19,499\u001b[0m (76.17 KB)\n"
      ]
     },
     "metadata": {},
     "output_type": "display_data"
    },
    {
     "data": {
      "text/html": [
       "<pre style=\"white-space:pre;overflow-x:auto;line-height:normal;font-family:Menlo,'DejaVu Sans Mono',consolas,'Courier New',monospace\"><span style=\"font-weight: bold\"> Non-trainable params: </span><span style=\"color: #00af00; text-decoration-color: #00af00\">0</span> (0.00 B)\n",
       "</pre>\n"
      ],
      "text/plain": [
       "\u001b[1m Non-trainable params: \u001b[0m\u001b[38;5;34m0\u001b[0m (0.00 B)\n"
      ]
     },
     "metadata": {},
     "output_type": "display_data"
    }
   ],
   "source": [
    "\"\"\"\n",
    "Define the architecture for the autoencoder using adam optimizer \n",
    "\"\"\"\n",
    "# Get the number of features from the scaled data in our case it was 62\n",
    "input_dim = X_train_scaled.shape[1]\n",
    "\n",
    "# Define the bottleneck size \n",
    "# this can be changed in hyperparameter tuning\n",
    "# compress from 62 to 32 features\n",
    "encoding_dim = 12\n",
    "# print out both feature sizes to see \n",
    "print(f\"Input dimension: {input_dim}\")\n",
    "print(f\"Encoding dimension: {encoding_dim}\")\n",
    "\n",
    "# define the autoencoder using Keras squential \n",
    "autoencoder = keras.Sequential(\n",
    "    [\n",
    "        # define the input shape in for the first layer must match the number of input features \n",
    "        layers.Input(shape=(input_dim,)),\n",
    "        # encoder we can add layers or change neuron counts in hyperparameter tuning\n",
    "        layers.Dense(64, activation=\"relu\"),\n",
    "        layers.Dense(48, activation=\"relu\"),\n",
    "        layers.Dense(24, activation=\"relu\"),\n",
    "        # the bottleneck\n",
    "        layers.Dense(encoding_dim, activation=\"relu\"),\n",
    "        # decoder starts here basically same as the encoder just backwards \n",
    "        layers.Dense(24, activation=\"relu\"),\n",
    "        layers.Dense(48, activation=\"relu\"),\n",
    "        layers.Dense(64, activation=\"relu\"),\n",
    "        # final layer attempt to reconstruct orgininal input \n",
    "        layers.Dense(input_dim, activation=\"sigmoid\")\n",
    "    ],\n",
    "    # give the model a name to reference later\n",
    "    name=\"autoencoder\"\n",
    ")\n",
    "\n",
    "# show the architecture of the model \n",
    "print(\"\\nModel Summary:\")\n",
    "autoencoder.summary()\n",
    "\n"
   ]
  },
  {
   "cell_type": "code",
   "execution_count": null,
   "id": "2e998be1",
   "metadata": {},
   "outputs": [
    {
     "name": "stdout",
     "output_type": "stream",
     "text": [
      "Compiling model with optimizer='adam' and loss ='mse'\n",
      "Success!\n"
     ]
    }
   ],
   "source": [
    "\"\"\"\n",
    "This block compiles the model defined above\n",
    "\"\"\"\n",
    "# choose an optimizer \n",
    "optimizer = 'adam'\n",
    "\n",
    "# choose a loss funciton use mse here could also use binary_crossentropy\n",
    "loss_function = 'mse'\n",
    "\n",
    "print(f\"Compiling model with optimizer='{optimizer}' and loss ='{loss_function}'\")\n",
    "\n",
    "#compile the autoencoder\n",
    "autoencoder.compile(optimizer=optimizer, loss=loss_function)\n",
    "\n",
    "print(\"Success!\")\n"
   ]
  },
  {
   "cell_type": "code",
   "execution_count": null,
   "id": "e001220b",
   "metadata": {},
   "outputs": [
    {
     "name": "stdout",
     "output_type": "stream",
     "text": [
      "Epoch 1/50\n",
      "\u001b[1m6403/6403\u001b[0m \u001b[32m━━━━━━━━━━━━━━━━━━━━\u001b[0m\u001b[37m\u001b[0m \u001b[1m3s\u001b[0m 386us/step - loss: 0.0119 - val_loss: 0.0010\n",
      "Epoch 2/50\n",
      "\u001b[1m6403/6403\u001b[0m \u001b[32m━━━━━━━━━━━━━━━━━━━━\u001b[0m\u001b[37m\u001b[0m \u001b[1m2s\u001b[0m 387us/step - loss: 9.0745e-04 - val_loss: 4.0925e-04\n",
      "Epoch 3/50\n",
      "\u001b[1m6403/6403\u001b[0m \u001b[32m━━━━━━━━━━━━━━━━━━━━\u001b[0m\u001b[37m\u001b[0m \u001b[1m2s\u001b[0m 372us/step - loss: 4.1592e-04 - val_loss: 3.2771e-04\n",
      "Epoch 4/50\n",
      "\u001b[1m6403/6403\u001b[0m \u001b[32m━━━━━━━━━━━━━━━━━━━━\u001b[0m\u001b[37m\u001b[0m \u001b[1m2s\u001b[0m 377us/step - loss: 3.2706e-04 - val_loss: 2.9344e-04\n",
      "Epoch 5/50\n",
      "\u001b[1m6403/6403\u001b[0m \u001b[32m━━━━━━━━━━━━━━━━━━━━\u001b[0m\u001b[37m\u001b[0m \u001b[1m2s\u001b[0m 385us/step - loss: 2.8489e-04 - val_loss: 2.4012e-04\n",
      "Epoch 6/50\n",
      "\u001b[1m6403/6403\u001b[0m \u001b[32m━━━━━━━━━━━━━━━━━━━━\u001b[0m\u001b[37m\u001b[0m \u001b[1m2s\u001b[0m 383us/step - loss: 2.5416e-04 - val_loss: 2.0362e-04\n",
      "Epoch 7/50\n",
      "\u001b[1m6403/6403\u001b[0m \u001b[32m━━━━━━━━━━━━━━━━━━━━\u001b[0m\u001b[37m\u001b[0m \u001b[1m2s\u001b[0m 382us/step - loss: 2.0361e-04 - val_loss: 1.7612e-04\n",
      "Epoch 8/50\n",
      "\u001b[1m6403/6403\u001b[0m \u001b[32m━━━━━━━━━━━━━━━━━━━━\u001b[0m\u001b[37m\u001b[0m \u001b[1m2s\u001b[0m 381us/step - loss: 2.0121e-04 - val_loss: 1.8511e-04\n",
      "Epoch 9/50\n",
      "\u001b[1m6403/6403\u001b[0m \u001b[32m━━━━━━━━━━━━━━━━━━━━\u001b[0m\u001b[37m\u001b[0m \u001b[1m2s\u001b[0m 379us/step - loss: 1.8369e-04 - val_loss: 1.8831e-04\n",
      "Epoch 10/50\n",
      "\u001b[1m6403/6403\u001b[0m \u001b[32m━━━━━━━━━━━━━━━━━━━━\u001b[0m\u001b[37m\u001b[0m \u001b[1m2s\u001b[0m 380us/step - loss: 1.7697e-04 - val_loss: 1.6134e-04\n",
      "Epoch 11/50\n",
      "\u001b[1m6403/6403\u001b[0m \u001b[32m━━━━━━━━━━━━━━━━━━━━\u001b[0m\u001b[37m\u001b[0m \u001b[1m2s\u001b[0m 384us/step - loss: 1.6398e-04 - val_loss: 2.2742e-04\n",
      "Epoch 12/50\n",
      "\u001b[1m6403/6403\u001b[0m \u001b[32m━━━━━━━━━━━━━━━━━━━━\u001b[0m\u001b[37m\u001b[0m \u001b[1m2s\u001b[0m 371us/step - loss: 1.5772e-04 - val_loss: 1.8165e-04\n",
      "Epoch 13/50\n",
      "\u001b[1m6403/6403\u001b[0m \u001b[32m━━━━━━━━━━━━━━━━━━━━\u001b[0m\u001b[37m\u001b[0m \u001b[1m2s\u001b[0m 374us/step - loss: 1.6386e-04 - val_loss: 1.4837e-04\n",
      "Epoch 14/50\n",
      "\u001b[1m6403/6403\u001b[0m \u001b[32m━━━━━━━━━━━━━━━━━━━━\u001b[0m\u001b[37m\u001b[0m \u001b[1m2s\u001b[0m 369us/step - loss: 1.5209e-04 - val_loss: 1.4218e-04\n",
      "Epoch 15/50\n",
      "\u001b[1m6403/6403\u001b[0m \u001b[32m━━━━━━━━━━━━━━━━━━━━\u001b[0m\u001b[37m\u001b[0m \u001b[1m2s\u001b[0m 380us/step - loss: 1.5229e-04 - val_loss: 3.2530e-04\n",
      "Epoch 16/50\n",
      "\u001b[1m6403/6403\u001b[0m \u001b[32m━━━━━━━━━━━━━━━━━━━━\u001b[0m\u001b[37m\u001b[0m \u001b[1m2s\u001b[0m 362us/step - loss: 1.6279e-04 - val_loss: 1.5350e-04\n",
      "Epoch 17/50\n",
      "\u001b[1m6403/6403\u001b[0m \u001b[32m━━━━━━━━━━━━━━━━━━━━\u001b[0m\u001b[37m\u001b[0m \u001b[1m3s\u001b[0m 389us/step - loss: 1.4711e-04 - val_loss: 1.3456e-04\n",
      "Epoch 18/50\n",
      "\u001b[1m6403/6403\u001b[0m \u001b[32m━━━━━━━━━━━━━━━━━━━━\u001b[0m\u001b[37m\u001b[0m \u001b[1m2s\u001b[0m 363us/step - loss: 1.4241e-04 - val_loss: 1.6679e-04\n",
      "Epoch 19/50\n",
      "\u001b[1m6403/6403\u001b[0m \u001b[32m━━━━━━━━━━━━━━━━━━━━\u001b[0m\u001b[37m\u001b[0m \u001b[1m2s\u001b[0m 356us/step - loss: 1.5250e-04 - val_loss: 1.3127e-04\n",
      "Epoch 20/50\n",
      "\u001b[1m6403/6403\u001b[0m \u001b[32m━━━━━━━━━━━━━━━━━━━━\u001b[0m\u001b[37m\u001b[0m \u001b[1m2s\u001b[0m 371us/step - loss: 1.4769e-04 - val_loss: 1.4243e-04\n",
      "Epoch 21/50\n",
      "\u001b[1m6403/6403\u001b[0m \u001b[32m━━━━━━━━━━━━━━━━━━━━\u001b[0m\u001b[37m\u001b[0m \u001b[1m2s\u001b[0m 358us/step - loss: 1.4559e-04 - val_loss: 1.3800e-04\n",
      "Epoch 22/50\n",
      "\u001b[1m6403/6403\u001b[0m \u001b[32m━━━━━━━━━━━━━━━━━━━━\u001b[0m\u001b[37m\u001b[0m \u001b[1m2s\u001b[0m 358us/step - loss: 1.4001e-04 - val_loss: 1.2769e-04\n",
      "Epoch 23/50\n",
      "\u001b[1m6403/6403\u001b[0m \u001b[32m━━━━━━━━━━━━━━━━━━━━\u001b[0m\u001b[37m\u001b[0m \u001b[1m2s\u001b[0m 356us/step - loss: 1.3926e-04 - val_loss: 1.2355e-04\n",
      "Epoch 24/50\n",
      "\u001b[1m6403/6403\u001b[0m \u001b[32m━━━━━━━━━━━━━━━━━━━━\u001b[0m\u001b[37m\u001b[0m \u001b[1m2s\u001b[0m 360us/step - loss: 1.3872e-04 - val_loss: 1.2368e-04\n",
      "Epoch 25/50\n",
      "\u001b[1m6403/6403\u001b[0m \u001b[32m━━━━━━━━━━━━━━━━━━━━\u001b[0m\u001b[37m\u001b[0m \u001b[1m2s\u001b[0m 357us/step - loss: 1.3813e-04 - val_loss: 1.2147e-04\n",
      "Epoch 26/50\n",
      "\u001b[1m6403/6403\u001b[0m \u001b[32m━━━━━━━━━━━━━━━━━━━━\u001b[0m\u001b[37m\u001b[0m \u001b[1m2s\u001b[0m 354us/step - loss: 1.3942e-04 - val_loss: 1.2689e-04\n",
      "Epoch 27/50\n",
      "\u001b[1m6403/6403\u001b[0m \u001b[32m━━━━━━━━━━━━━━━━━━━━\u001b[0m\u001b[37m\u001b[0m \u001b[1m2s\u001b[0m 384us/step - loss: 1.3330e-04 - val_loss: 1.0859e-04\n",
      "Epoch 28/50\n",
      "\u001b[1m6403/6403\u001b[0m \u001b[32m━━━━━━━━━━━━━━━━━━━━\u001b[0m\u001b[37m\u001b[0m \u001b[1m2s\u001b[0m 376us/step - loss: 1.1605e-04 - val_loss: 1.2877e-04\n",
      "Epoch 29/50\n",
      "\u001b[1m6403/6403\u001b[0m \u001b[32m━━━━━━━━━━━━━━━━━━━━\u001b[0m\u001b[37m\u001b[0m \u001b[1m2s\u001b[0m 365us/step - loss: 1.1977e-04 - val_loss: 1.0988e-04\n",
      "Epoch 30/50\n",
      "\u001b[1m3040/6403\u001b[0m \u001b[32m━━━━━━━━━\u001b[0m\u001b[37m━━━━━━━━━━━\u001b[0m \u001b[1m1s\u001b[0m 363us/step - loss: 1.1069e-04"
     ]
    }
   ],
   "source": [
    "\"\"\" \n",
    "This block defines the number of epochs and batch size then trains the model\n",
    "\"\"\"\n",
    "# define hyperparameters \n",
    "num_epochs = 50\n",
    "batch_size = 32\n",
    "# this object will store the loss values for each epoch which can be got using \n",
    "# history.history['loss'] and history.history['val_loss']\n",
    "history = autoencoder.fit(\n",
    "    X_train_scaled, \n",
    "    X_train_scaled, \n",
    "    epochs=num_epochs, \n",
    "    batch_size=batch_size,\n",
    "    shuffle=True,\n",
    "    validation_data=(X_val_scaled, X_val_scaled) \n",
    ")\n",
    "\n",
    "print(\"Training of model complete!\")"
   ]
  },
  {
   "cell_type": "code",
   "execution_count": null,
   "id": "165090ba",
   "metadata": {},
   "outputs": [
    {
     "data": {
      "image/png": "[encoded data removed]",
      "text/plain": [
       "<Figure size 1000x500 with 1 Axes>"
      ]
     },
     "metadata": {},
     "output_type": "display_data"
    }
   ],
   "source": [
    "\"\"\"\n",
    "This block plots the models training and validation loss \n",
    "\"\"\"\n",
    "# get the history from the history object defined in the cell above\n",
    "loss = history.history['loss']\n",
    "val_loss = history.history['val_loss']\n",
    "epochs_range = range(num_epochs)\n",
    "\n",
    "# plot the training and validation loss using matplot\n",
    "plt.figure(figsize=(10,5))\n",
    "plt.plot(epochs_range, loss, label='Training loss')\n",
    "plt.plot(epochs_range, val_loss, label='Validation loss')\n",
    "plt.title('Model loss during training')\n",
    "plt.xlabel('Epoch')\n",
    "plt.ylabel('Loss')\n",
    "plt.legend(loc='upper right')\n",
    "plt.grid(True)\n",
    "plt.show()"
   ]
  },
  {
   "cell_type": "code",
   "execution_count": null,
   "id": "2a705591",
   "metadata": {},
   "outputs": [
    {
     "name": "stdout",
     "output_type": "stream",
     "text": [
      "\u001b[1m1373/1373\u001b[0m \u001b[32m━━━━━━━━━━━━━━━━━━━━\u001b[0m\u001b[37m\u001b[0m \u001b[1m1s\u001b[0m 1ms/step\n"
     ]
    },
    {
     "data": {
      "image/png": "[encoded data removed]",
      "text/plain": [
       "<Figure size 1000x500 with 1 Axes>"
      ]
     },
     "metadata": {},
     "output_type": "display_data"
    },
    {
     "name": "stdout",
     "output_type": "stream",
     "text": [
      "Chosen anomaly threshold (95th percentile of val errors): 0.000026\n"
     ]
    }
   ],
   "source": [
    "\"\"\"\n",
    "This block reconstructs the validation data and determines the error \n",
    "then determines whether or not it is above the sepcified threshold\n",
    "\"\"\"\n",
    "# reconstruct the validation data\n",
    "reconstruct_val = autoencoder.predict(X_val_scaled)\n",
    "# determine the reconstruction error for each val sample\n",
    "val_errors = np.mean(np.power(X_val_scaled - reconstruct_val, 2), axis=1)\n",
    "\n",
    "# plot the errors on validation data\n",
    "plt.figure(figsize=(10,5))\n",
    "plt.hist(val_errors, bins=50, alpha=0.8, label='Errors on Validation data')\n",
    "plt.xlabel(\"Reconstruction Error\")\n",
    "plt.ylabel(\"Number of Samples\")\n",
    "plt.title(\"Distribution of Reconstruction Errors\")\n",
    "plt.legend()\n",
    "plt.grid(True)\n",
    "plt.show()\n",
    "\n",
    "# Determine the threshold with a percentile \n",
    "percentile = 99\n",
    "threshold = np.percentile(val_errors, percentile)\n",
    "\n",
    "print(f\"Chosen anomaly threshold ({percentile}th percentile of val errors): {threshold:.6f}\")\n"
   ]
  },
  {
   "cell_type": "code",
   "execution_count": null,
   "id": "0edd149f",
   "metadata": {},
   "outputs": [
    {
     "name": "stdout",
     "output_type": "stream",
     "text": [
      "\u001b[1m5948/5948\u001b[0m \u001b[32m━━━━━━━━━━━━━━━━━━━━\u001b[0m\u001b[37m\u001b[0m \u001b[1m7s\u001b[0m 1ms/step\n",
      " Evaluation Metrics \n",
      "Anomaly threshold: 0.000026\n",
      "Accuracy: 0.2244\n",
      "Precission: 0.3058\n",
      "Recall: 0.0065\n",
      "F1-Score: 0.0128\n",
      "Classification Report: \n",
      "              precision    recall  f1-score   support\n",
      "\n",
      "      Benign       0.22      0.95      0.36     43921\n",
      "         Bot       0.31      0.01      0.01    146402\n",
      "\n",
      "    accuracy                           0.22    190323\n",
      "   macro avg       0.26      0.48      0.19    190323\n",
      "weighted avg       0.29      0.22      0.09    190323\n",
      "\n",
      "Confusion Matrix: \n",
      "[[ 41751   2170]\n",
      " [145446    956]]\n"
     ]
    }
   ],
   "source": [
    "\"\"\"\n",
    "This block evaluates the models performance\n",
    "\"\"\"\n",
    "# reconstruct the test data set\n",
    "reconstruct_test = autoencoder.predict(X_test_scaled)\n",
    "\n",
    "# determine the reconstruction error for each test sample\n",
    "test_errors = np.mean(np.power(X_test_scaled - reconstruct_test, 2), axis=1)\n",
    "\n",
    "# predict based on the threshold\n",
    "y_pred = (test_errors > threshold).astype(int)\n",
    "\n",
    "# prepare the labels for the benign samples \n",
    "y_test_benign = np.where(y_test == 'Benign', 0, 1)\n",
    "\n",
    "# calculate and display metrics\n",
    "print(\" Evaluation Metrics \")\n",
    "print(f\"Anomaly threshold: {threshold:.6f}\")\n",
    "\n",
    "accuracy = accuracy_score(y_test_benign, y_pred)\n",
    "precision = precision_score(y_test_benign, y_pred)\n",
    "recall = recall_score(y_test_benign, y_pred)\n",
    "f1 = f1_score(y_test_benign, y_pred)\n",
    "\n",
    "# output the metrics \n",
    "print(f\"Accuracy: {accuracy:.4f}\")\n",
    "print(f\"Precission: {precision:.4f}\")\n",
    "print(f\"Recall: {recall:.4f}\")\n",
    "print(f\"F1-Score: {f1:.4f}\")\n",
    "\n",
    "# show the classification report\n",
    "print(\"Classification Report: \")\n",
    "print(classification_report(y_test_benign, y_pred, target_names=['Benign', 'Bot']))\n",
    "\n",
    "print(\"Confusion Matrix: \")\n",
    "confusion_matrix = confusion_matrix(y_test_benign, y_pred)\n",
    "print(confusion_matrix)\n",
    "\n",
    "\n"
   ]
  }
 ],
 "metadata": {
  "kernelspec": {
   "display_name": "Python 3",
   "language": "python",
   "name": "python3"
  },
  "language_info": {
   "codemirror_mode": {
    "name": "ipython",
    "version": 3
   },
   "file_extension": ".py",
   "mimetype": "text/x-python",
   "name": "python",
   "nbconvert_exporter": "python",
   "pygments_lexer": "ipython3",
   "version": "3.12.1"
  }
 },
 "nbformat": 4,
 "nbformat_minor": 5
}
