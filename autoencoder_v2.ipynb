{
 "cells": [
  {
   "cell_type": "code",
   "execution_count": 5,
   "id": "5c72e2d3",
   "metadata": {},
   "outputs": [],
   "source": [
    "import numpy as np\n",
    "import pandas as pd\n",
    "import matplotlib.pyplot as plt\n",
    "import seaborn as sns\n",
    "from sklearn.impute import SimpleImputer\n",
    "from sklearn.preprocessing import MinMaxScaler\n",
    "from sklearn.metrics import f1_score, classification_report, confusion_matrix\n",
    "from keras import layers, regularizers, callbacks, Sequential"
   ]
  },
  {
   "cell_type": "code",
   "execution_count": 6,
   "id": "4c2ad813",
   "metadata": {},
   "outputs": [],
   "source": [
    "DATA_DIR = \"./processed_data\"\n",
    "\n",
    "train_df = pd.read_csv(f\"{DATA_DIR}/X_train.csv\")\n",
    "val_df   = pd.read_csv(f\"{DATA_DIR}/X_val.csv\")\n",
    "test_df  = pd.read_csv(f\"{DATA_DIR}/X_test.csv\")\n",
    "y_test   = pd.read_csv(f\"{DATA_DIR}/y_test.csv\").iloc[:, 0]\n",
    "\n",
    "# collapse all non-benign labels to generic “Attack”\n",
    "y_test_bin = (y_test != \"Benign\").astype(int).values   # 0 = Benign, 1 = Attack"
   ]
  },
  {
   "cell_type": "code",
   "execution_count": 7,
   "id": "518a3588",
   "metadata": {},
   "outputs": [],
   "source": [
    "train_benign = train_df[train_df[\"Label\"] == \"Benign\"]\n",
    "val_benign   = val_df  [val_df  [\"Label\"] == \"Benign\"]\n",
    "\n",
    "X_train_raw = train_benign.drop(columns=[\"Label\"]).values\n",
    "X_val_raw   = val_benign.drop(columns=[\"Label\"]).values\n",
    "X_test_raw  = test_df.values"
   ]
  },
  {
   "cell_type": "code",
   "execution_count": 8,
   "id": "f533db12",
   "metadata": {},
   "outputs": [
    {
     "name": "stdout",
     "output_type": "stream",
     "text": [
      "Handle infinite values\n",
      "Train shape: (204896, 62)   Val: (8882, 62)   Test: (118585, 62)\n"
     ]
    }
   ],
   "source": [
    "print(\"Handle infinite values\")\n",
    "X_train_raw[np.isinf(X_train_raw)] = np.nan\n",
    "X_val_raw[np.isinf(X_val_raw)] = np.nan\n",
    "X_test_raw[np.isinf(X_test_raw)] = np.nan\n",
    "\n",
    "imp = SimpleImputer(strategy=\"median\").fit(X_train_raw)\n",
    "X_train_imp = imp.transform(X_train_raw)\n",
    "X_val_imp   = imp.transform(X_val_raw)\n",
    "X_test_imp  = imp.transform(X_test_raw)\n",
    "\n",
    "scaler = MinMaxScaler().fit(X_train_imp)\n",
    "X_train = scaler.transform(X_train_imp)\n",
    "X_val   = scaler.transform(X_val_imp)\n",
    "X_test  = scaler.transform(X_test_imp)\n",
    "print(f\"Train shape: {X_train.shape}   Val: {X_val.shape}   Test: {X_test.shape}\")\n"
   ]
  },
  {
   "cell_type": "code",
   "execution_count": 9,
   "id": "0545821e",
   "metadata": {},
   "outputs": [
    {
     "data": {
      "text/html": [
       "<pre style=\"white-space:pre;overflow-x:auto;line-height:normal;font-family:Menlo,'DejaVu Sans Mono',consolas,'Courier New',monospace\"><span style=\"font-weight: bold\">Model: \"autoencoder\"</span>\n",
       "</pre>\n"
      ],
      "text/plain": [
       "\u001b[1mModel: \"autoencoder\"\u001b[0m\n"
      ]
     },
     "metadata": {},
     "output_type": "display_data"
    },
    {
     "data": {
      "text/html": [
       "<pre style=\"white-space:pre;overflow-x:auto;line-height:normal;font-family:Menlo,'DejaVu Sans Mono',consolas,'Courier New',monospace\">┏━━━━━━━━━━━━━━━━━━━━━━━━━━━━━━━━━┳━━━━━━━━━━━━━━━━━━━━━━━━┳━━━━━━━━━━━━━━━┓\n",
       "┃<span style=\"font-weight: bold\"> Layer (type)                    </span>┃<span style=\"font-weight: bold\"> Output Shape           </span>┃<span style=\"font-weight: bold\">       Param # </span>┃\n",
       "┡━━━━━━━━━━━━━━━━━━━━━━━━━━━━━━━━━╇━━━━━━━━━━━━━━━━━━━━━━━━╇━━━━━━━━━━━━━━━┩\n",
       "│ dense (<span style=\"color: #0087ff; text-decoration-color: #0087ff\">Dense</span>)                   │ (<span style=\"color: #00d7ff; text-decoration-color: #00d7ff\">None</span>, <span style=\"color: #00af00; text-decoration-color: #00af00\">48</span>)             │         <span style=\"color: #00af00; text-decoration-color: #00af00\">3,024</span> │\n",
       "├─────────────────────────────────┼────────────────────────┼───────────────┤\n",
       "│ dropout (<span style=\"color: #0087ff; text-decoration-color: #0087ff\">Dropout</span>)               │ (<span style=\"color: #00d7ff; text-decoration-color: #00d7ff\">None</span>, <span style=\"color: #00af00; text-decoration-color: #00af00\">48</span>)             │             <span style=\"color: #00af00; text-decoration-color: #00af00\">0</span> │\n",
       "├─────────────────────────────────┼────────────────────────┼───────────────┤\n",
       "│ dense_1 (<span style=\"color: #0087ff; text-decoration-color: #0087ff\">Dense</span>)                 │ (<span style=\"color: #00d7ff; text-decoration-color: #00d7ff\">None</span>, <span style=\"color: #00af00; text-decoration-color: #00af00\">24</span>)             │         <span style=\"color: #00af00; text-decoration-color: #00af00\">1,176</span> │\n",
       "├─────────────────────────────────┼────────────────────────┼───────────────┤\n",
       "│ dense_2 (<span style=\"color: #0087ff; text-decoration-color: #0087ff\">Dense</span>)                 │ (<span style=\"color: #00d7ff; text-decoration-color: #00d7ff\">None</span>, <span style=\"color: #00af00; text-decoration-color: #00af00\">12</span>)             │           <span style=\"color: #00af00; text-decoration-color: #00af00\">300</span> │\n",
       "├─────────────────────────────────┼────────────────────────┼───────────────┤\n",
       "│ dense_3 (<span style=\"color: #0087ff; text-decoration-color: #0087ff\">Dense</span>)                 │ (<span style=\"color: #00d7ff; text-decoration-color: #00d7ff\">None</span>, <span style=\"color: #00af00; text-decoration-color: #00af00\">24</span>)             │           <span style=\"color: #00af00; text-decoration-color: #00af00\">312</span> │\n",
       "├─────────────────────────────────┼────────────────────────┼───────────────┤\n",
       "│ dense_4 (<span style=\"color: #0087ff; text-decoration-color: #0087ff\">Dense</span>)                 │ (<span style=\"color: #00d7ff; text-decoration-color: #00d7ff\">None</span>, <span style=\"color: #00af00; text-decoration-color: #00af00\">48</span>)             │         <span style=\"color: #00af00; text-decoration-color: #00af00\">1,200</span> │\n",
       "├─────────────────────────────────┼────────────────────────┼───────────────┤\n",
       "│ dense_5 (<span style=\"color: #0087ff; text-decoration-color: #0087ff\">Dense</span>)                 │ (<span style=\"color: #00d7ff; text-decoration-color: #00d7ff\">None</span>, <span style=\"color: #00af00; text-decoration-color: #00af00\">62</span>)             │         <span style=\"color: #00af00; text-decoration-color: #00af00\">3,038</span> │\n",
       "└─────────────────────────────────┴────────────────────────┴───────────────┘\n",
       "</pre>\n"
      ],
      "text/plain": [
       "┏━━━━━━━━━━━━━━━━━━━━━━━━━━━━━━━━━┳━━━━━━━━━━━━━━━━━━━━━━━━┳━━━━━━━━━━━━━━━┓\n",
       "┃\u001b[1m \u001b[0m\u001b[1mLayer (type)                   \u001b[0m\u001b[1m \u001b[0m┃\u001b[1m \u001b[0m\u001b[1mOutput Shape          \u001b[0m\u001b[1m \u001b[0m┃\u001b[1m \u001b[0m\u001b[1m      Param #\u001b[0m\u001b[1m \u001b[0m┃\n",
       "┡━━━━━━━━━━━━━━━━━━━━━━━━━━━━━━━━━╇━━━━━━━━━━━━━━━━━━━━━━━━╇━━━━━━━━━━━━━━━┩\n",
       "│ dense (\u001b[38;5;33mDense\u001b[0m)                   │ (\u001b[38;5;45mNone\u001b[0m, \u001b[38;5;34m48\u001b[0m)             │         \u001b[38;5;34m3,024\u001b[0m │\n",
       "├─────────────────────────────────┼────────────────────────┼───────────────┤\n",
       "│ dropout (\u001b[38;5;33mDropout\u001b[0m)               │ (\u001b[38;5;45mNone\u001b[0m, \u001b[38;5;34m48\u001b[0m)             │             \u001b[38;5;34m0\u001b[0m │\n",
       "├─────────────────────────────────┼────────────────────────┼───────────────┤\n",
       "│ dense_1 (\u001b[38;5;33mDense\u001b[0m)                 │ (\u001b[38;5;45mNone\u001b[0m, \u001b[38;5;34m24\u001b[0m)             │         \u001b[38;5;34m1,176\u001b[0m │\n",
       "├─────────────────────────────────┼────────────────────────┼───────────────┤\n",
       "│ dense_2 (\u001b[38;5;33mDense\u001b[0m)                 │ (\u001b[38;5;45mNone\u001b[0m, \u001b[38;5;34m12\u001b[0m)             │           \u001b[38;5;34m300\u001b[0m │\n",
       "├─────────────────────────────────┼────────────────────────┼───────────────┤\n",
       "│ dense_3 (\u001b[38;5;33mDense\u001b[0m)                 │ (\u001b[38;5;45mNone\u001b[0m, \u001b[38;5;34m24\u001b[0m)             │           \u001b[38;5;34m312\u001b[0m │\n",
       "├─────────────────────────────────┼────────────────────────┼───────────────┤\n",
       "│ dense_4 (\u001b[38;5;33mDense\u001b[0m)                 │ (\u001b[38;5;45mNone\u001b[0m, \u001b[38;5;34m48\u001b[0m)             │         \u001b[38;5;34m1,200\u001b[0m │\n",
       "├─────────────────────────────────┼────────────────────────┼───────────────┤\n",
       "│ dense_5 (\u001b[38;5;33mDense\u001b[0m)                 │ (\u001b[38;5;45mNone\u001b[0m, \u001b[38;5;34m62\u001b[0m)             │         \u001b[38;5;34m3,038\u001b[0m │\n",
       "└─────────────────────────────────┴────────────────────────┴───────────────┘\n"
      ]
     },
     "metadata": {},
     "output_type": "display_data"
    },
    {
     "data": {
      "text/html": [
       "<pre style=\"white-space:pre;overflow-x:auto;line-height:normal;font-family:Menlo,'DejaVu Sans Mono',consolas,'Courier New',monospace\"><span style=\"font-weight: bold\"> Total params: </span><span style=\"color: #00af00; text-decoration-color: #00af00\">9,050</span> (35.35 KB)\n",
       "</pre>\n"
      ],
      "text/plain": [
       "\u001b[1m Total params: \u001b[0m\u001b[38;5;34m9,050\u001b[0m (35.35 KB)\n"
      ]
     },
     "metadata": {},
     "output_type": "display_data"
    },
    {
     "data": {
      "text/html": [
       "<pre style=\"white-space:pre;overflow-x:auto;line-height:normal;font-family:Menlo,'DejaVu Sans Mono',consolas,'Courier New',monospace\"><span style=\"font-weight: bold\"> Trainable params: </span><span style=\"color: #00af00; text-decoration-color: #00af00\">9,050</span> (35.35 KB)\n",
       "</pre>\n"
      ],
      "text/plain": [
       "\u001b[1m Trainable params: \u001b[0m\u001b[38;5;34m9,050\u001b[0m (35.35 KB)\n"
      ]
     },
     "metadata": {},
     "output_type": "display_data"
    },
    {
     "data": {
      "text/html": [
       "<pre style=\"white-space:pre;overflow-x:auto;line-height:normal;font-family:Menlo,'DejaVu Sans Mono',consolas,'Courier New',monospace\"><span style=\"font-weight: bold\"> Non-trainable params: </span><span style=\"color: #00af00; text-decoration-color: #00af00\">0</span> (0.00 B)\n",
       "</pre>\n"
      ],
      "text/plain": [
       "\u001b[1m Non-trainable params: \u001b[0m\u001b[38;5;34m0\u001b[0m (0.00 B)\n"
      ]
     },
     "metadata": {},
     "output_type": "display_data"
    }
   ],
   "source": [
    "input_dim = X_train.shape[1]          # 62\n",
    "auto = Sequential([\n",
    "    layers.Input((input_dim,)),\n",
    "    layers.Dense(48, activation=\"relu\"),\n",
    "    layers.Dropout(0.2),\n",
    "    layers.Dense(24, activation=\"relu\",\n",
    "                 activity_regularizer=regularizers.l1(1e-5)),\n",
    "    layers.Dense(12, activation=\"relu\"),          # bottleneck\n",
    "    layers.Dense(24, activation=\"relu\"),\n",
    "    layers.Dense(48, activation=\"relu\"),\n",
    "    layers.Dense(input_dim, activation=\"linear\")\n",
    "], name=\"autoencoder\")\n",
    "\n",
    "auto.compile(optimizer=\"adam\", loss=\"mse\")\n",
    "auto.summary()"
   ]
  },
  {
   "cell_type": "code",
   "execution_count": 10,
   "id": "f42a02c2",
   "metadata": {},
   "outputs": [
    {
     "name": "stdout",
     "output_type": "stream",
     "text": [
      "Epoch 1/200\n",
      "1601/1601 - 1s - 700us/step - loss: 0.0036 - val_loss: 9.8735e-04\n",
      "Epoch 2/200\n",
      "1601/1601 - 1s - 392us/step - loss: 9.2350e-04 - val_loss: 6.6980e-04\n",
      "Epoch 3/200\n",
      "1601/1601 - 1s - 395us/step - loss: 6.9879e-04 - val_loss: 5.5823e-04\n",
      "Epoch 4/200\n",
      "1601/1601 - 1s - 396us/step - loss: 6.0457e-04 - val_loss: 5.1034e-04\n",
      "Epoch 5/200\n",
      "1601/1601 - 1s - 392us/step - loss: 5.3721e-04 - val_loss: 4.4393e-04\n",
      "Epoch 6/200\n",
      "1601/1601 - 1s - 395us/step - loss: 4.6880e-04 - val_loss: 4.2945e-04\n",
      "Epoch 7/200\n",
      "1601/1601 - 1s - 394us/step - loss: 4.1963e-04 - val_loss: 3.7234e-04\n",
      "Epoch 8/200\n",
      "1601/1601 - 1s - 395us/step - loss: 3.8853e-04 - val_loss: 3.5568e-04\n",
      "Epoch 9/200\n",
      "1601/1601 - 1s - 447us/step - loss: 3.6721e-04 - val_loss: 3.3942e-04\n",
      "Epoch 10/200\n",
      "1601/1601 - 1s - 433us/step - loss: 3.4690e-04 - val_loss: 3.5468e-04\n",
      "Epoch 11/200\n",
      "1601/1601 - 1s - 416us/step - loss: 3.3644e-04 - val_loss: 3.6760e-04\n",
      "Epoch 12/200\n",
      "1601/1601 - 1s - 395us/step - loss: 3.2692e-04 - val_loss: 3.5812e-04\n",
      "Epoch 13/200\n",
      "1601/1601 - 1s - 414us/step - loss: 3.2151e-04 - val_loss: 3.7474e-04\n",
      "Epoch 14/200\n",
      "1601/1601 - 1s - 414us/step - loss: 3.1337e-04 - val_loss: 3.2024e-04\n",
      "Epoch 15/200\n",
      "1601/1601 - 1s - 396us/step - loss: 3.0221e-04 - val_loss: 3.4111e-04\n",
      "Epoch 16/200\n",
      "1601/1601 - 1s - 410us/step - loss: 2.9378e-04 - val_loss: 3.2546e-04\n",
      "Epoch 17/200\n",
      "1601/1601 - 1s - 399us/step - loss: 2.8643e-04 - val_loss: 3.3937e-04\n",
      "Epoch 18/200\n",
      "1601/1601 - 1s - 397us/step - loss: 2.8600e-04 - val_loss: 3.4601e-04\n",
      "Epoch 19/200\n",
      "1601/1601 - 1s - 398us/step - loss: 2.8459e-04 - val_loss: 3.0079e-04\n",
      "Epoch 20/200\n",
      "1601/1601 - 1s - 397us/step - loss: 2.7595e-04 - val_loss: 3.3003e-04\n",
      "Epoch 21/200\n",
      "1601/1601 - 1s - 397us/step - loss: 2.6779e-04 - val_loss: 3.0927e-04\n",
      "Epoch 22/200\n",
      "1601/1601 - 1s - 396us/step - loss: 2.7058e-04 - val_loss: 3.2299e-04\n",
      "Epoch 23/200\n",
      "1601/1601 - 1s - 411us/step - loss: 2.7334e-04 - val_loss: 2.7468e-04\n",
      "Epoch 24/200\n",
      "1601/1601 - 1s - 421us/step - loss: 2.6913e-04 - val_loss: 2.9504e-04\n",
      "Epoch 25/200\n",
      "1601/1601 - 1s - 438us/step - loss: 2.6615e-04 - val_loss: 3.3141e-04\n",
      "Epoch 26/200\n",
      "1601/1601 - 1s - 395us/step - loss: 2.6145e-04 - val_loss: 2.9204e-04\n",
      "Epoch 27/200\n",
      "1601/1601 - 1s - 395us/step - loss: 2.6650e-04 - val_loss: 2.7053e-04\n",
      "Epoch 28/200\n",
      "1601/1601 - 1s - 390us/step - loss: 2.5946e-04 - val_loss: 2.8843e-04\n",
      "Epoch 29/200\n",
      "1601/1601 - 1s - 392us/step - loss: 2.5161e-04 - val_loss: 2.6994e-04\n",
      "Epoch 30/200\n",
      "1601/1601 - 1s - 398us/step - loss: 2.5446e-04 - val_loss: 2.8186e-04\n",
      "Epoch 31/200\n",
      "1601/1601 - 1s - 396us/step - loss: 2.5799e-04 - val_loss: 2.7268e-04\n",
      "Epoch 32/200\n",
      "1601/1601 - 1s - 396us/step - loss: 2.5831e-04 - val_loss: 3.2107e-04\n",
      "Epoch 33/200\n",
      "1601/1601 - 1s - 395us/step - loss: 2.5525e-04 - val_loss: 2.8610e-04\n",
      "Epoch 34/200\n",
      "1601/1601 - 1s - 396us/step - loss: 2.5432e-04 - val_loss: 2.6238e-04\n",
      "Epoch 35/200\n",
      "1601/1601 - 1s - 396us/step - loss: 2.5948e-04 - val_loss: 2.9237e-04\n",
      "Epoch 36/200\n",
      "1601/1601 - 1s - 418us/step - loss: 2.5079e-04 - val_loss: 3.0125e-04\n",
      "Epoch 37/200\n",
      "1601/1601 - 1s - 432us/step - loss: 2.5293e-04 - val_loss: 2.6784e-04\n",
      "Epoch 38/200\n",
      "1601/1601 - 1s - 417us/step - loss: 3.4436e-04 - val_loss: 3.6656e-04\n",
      "Epoch 39/200\n",
      "1601/1601 - 1s - 414us/step - loss: 2.8657e-04 - val_loss: 2.9038e-04\n",
      "Epoch 40/200\n",
      "1601/1601 - 1s - 406us/step - loss: 2.7592e-04 - val_loss: 2.9664e-04\n",
      "Epoch 41/200\n",
      "1601/1601 - 1s - 405us/step - loss: 2.7563e-04 - val_loss: 2.8782e-04\n",
      "Epoch 42/200\n",
      "1601/1601 - 1s - 395us/step - loss: 2.6185e-04 - val_loss: 2.6911e-04\n"
     ]
    }
   ],
   "source": [
    "early = callbacks.EarlyStopping(monitor=\"val_loss\",\n",
    "                                patience=8,\n",
    "                                restore_best_weights=True)\n",
    "\n",
    "history = auto.fit(X_train, X_train,\n",
    "                   epochs=200,\n",
    "                   batch_size=128,\n",
    "                   shuffle=True,\n",
    "                   validation_data=(X_val, X_val),\n",
    "                   callbacks=[early],\n",
    "                   verbose=2)"
   ]
  },
  {
   "cell_type": "code",
   "execution_count": 11,
   "id": "1498ab2b",
   "metadata": {},
   "outputs": [
    {
     "name": "stdout",
     "output_type": "stream",
     "text": [
      "\u001b[1m591/591\u001b[0m \u001b[32m━━━━━━━━━━━━━━━━━━━━\u001b[0m\u001b[37m\u001b[0m \u001b[1m0s\u001b[0m 199us/step\n",
      "Best threshold 0.00023453  (F1 on mix = 0.335)\n"
     ]
    }
   ],
   "source": [
    "ben_sample = X_val[:10000]\n",
    "atk_sample = X_test[y_test_bin == 1][:10000]\n",
    "mix_X  = np.vstack([ben_sample, atk_sample])\n",
    "mix_y  = np.hstack([np.zeros(len(ben_sample)), np.ones(len(atk_sample))])\n",
    "\n",
    "mix_err = np.mean((auto.predict(mix_X) - mix_X)**2, axis=1)\n",
    "\n",
    "best_f1, best_thr = 0, None\n",
    "for q in np.linspace(80, 99.9, 100):\n",
    "    thr = np.percentile(mix_err, q)\n",
    "    f1  = f1_score(mix_y, (mix_err > thr).astype(int))\n",
    "    if f1 > best_f1:\n",
    "        best_f1, best_thr = f1, thr\n",
    "\n",
    "print(f\"Best threshold {best_thr:.5g}  (F1 on mix = {best_f1:.3f})\")\n",
    "threshold = best_thr"
   ]
  },
  {
   "cell_type": "code",
   "execution_count": 12,
   "id": "20d6ac54",
   "metadata": {},
   "outputs": [
    {
     "name": "stdout",
     "output_type": "stream",
     "text": [
      "\u001b[1m3706/3706\u001b[0m \u001b[32m━━━━━━━━━━━━━━━━━━━━\u001b[0m\u001b[37m\u001b[0m \u001b[1m1s\u001b[0m 160us/step\n",
      "\n",
      "Classification Report (Benign = 0, Attack = 1):\n",
      "              precision    recall  f1-score   support\n",
      "\n",
      "           0      0.684     0.838     0.753     79026\n",
      "           1      0.412     0.227     0.293     39559\n",
      "\n",
      "    accuracy                          0.634    118585\n",
      "   macro avg      0.548     0.532     0.523    118585\n",
      "weighted avg      0.593     0.634     0.600    118585\n",
      "\n",
      "Confusion-Matrix:\n",
      "[[66191 12835]\n",
      " [30571  8988]]\n"
     ]
    },
    {
     "data": {
      "image/png": "[encoded data removed]",
      "text/plain": [
       "<Figure size 700x400 with 1 Axes>"
      ]
     },
     "metadata": {},
     "output_type": "display_data"
    }
   ],
   "source": [
    "test_err = np.mean((auto.predict(X_test) - X_test)**2, axis=1)\n",
    "y_pred   = (test_err > threshold).astype(int)\n",
    "\n",
    "print(\"\\nClassification Report (Benign = 0, Attack = 1):\")\n",
    "print(classification_report(y_test_bin, y_pred, digits=3))\n",
    "\n",
    "print(\"Confusion-Matrix:\")\n",
    "print(confusion_matrix(y_test_bin, y_pred))\n",
    "\n",
    "# Optional: plot error distributions\n",
    "plt.figure(figsize=(7,4))\n",
    "sns.histplot(test_err[y_test_bin==0], bins=100, stat=\"density\",\n",
    "             label=\"Benign\", color=\"blue\", alpha=0.6)\n",
    "sns.histplot(test_err[y_test_bin==1], bins=100, stat=\"density\",\n",
    "             label=\"Attack\", color=\"red\" , alpha=0.6)\n",
    "plt.axvline(threshold, ls=\"--\", c=\"k\", label=f\"thr={threshold:.2g}\")\n",
    "plt.xscale(\"log\"); plt.legend(); plt.title(\"Reconstruction-error distribution\")\n",
    "plt.xlabel(\"MSE\"); plt.tight_layout(); plt.show()"
   ]
  }
 ],
 "metadata": {
  "kernelspec": {
   "display_name": ".venv",
   "language": "python",
   "name": "python3"
  },
  "language_info": {
   "codemirror_mode": {
    "name": "ipython",
    "version": 3
   },
   "file_extension": ".py",
   "mimetype": "text/x-python",
   "name": "python",
   "nbconvert_exporter": "python",
   "pygments_lexer": "ipython3",
   "version": "3.12.7"
  }
 },
 "nbformat": 4,
 "nbformat_minor": 5
}
