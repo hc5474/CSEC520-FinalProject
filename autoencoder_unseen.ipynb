{
 "cells": [
  {
   "cell_type": "code",
   "execution_count": null,
   "id": "34a6b863",
   "metadata": {},
   "outputs": [],
   "source": [
    "\"\"\"\n",
    "AI Usage Statement (Dan LaChance)\n",
    "Tools Used: ChatGPT\n",
    "    - Usage: Graphing\n",
    "    - Verification: Gave Chat the algorithm and only had it produce the code based on my instruction; manually input the code\n",
    "Prohibited Use Compliance: Confirmed\n",
    "\n",
    "This script is modifed based on Han's autoencoder by editing the testing set to only include samples from the Thursday set. \n",
    "\"\"\""
   ]
  },
  {
   "cell_type": "code",
   "execution_count": null,
   "id": "4af6ecee",
   "metadata": {},
   "outputs": [],
   "source": [
    "import numpy as np\n",
    "import pandas as pd\n",
    "import matplotlib.pyplot as plt\n",
    "import seaborn as sns\n",
    "from sklearn.impute import SimpleImputer\n",
    "from sklearn.preprocessing import MinMaxScaler\n",
    "from sklearn.metrics import classification_report, confusion_matrix\n",
    "from keras import models\n",
    "import pickle\n"
   ]
  },
  {
   "cell_type": "code",
   "execution_count": null,
   "id": "85b93744",
   "metadata": {},
   "outputs": [],
   "source": [
    "\"\"\"\n",
    "Load and preprocess data from test set: Thursday and train/validation set: Friday\n",
    "\"\"\"\n",
    "# sepcify the file path for the processed data\n",
    "DATA_DIR = \"./processed_friday_data\"\n",
    "TEST_DIR = \"./processed_thursday_data\"\n",
    "# get the processed data X_train, X_val, X_test, y_test\n",
    "train_df = pd.read_csv(f\"{DATA_DIR}/X_train.csv\")\n",
    "val_df   = pd.read_csv(f\"{DATA_DIR}/X_val.csv\")\n",
    "test_df  = pd.read_csv(f\"{TEST_DIR}/X_val.csv\")\n",
    "y_test   = pd.read_csv(f\"{TEST_DIR}/y_val.csv\").iloc[:, 0]\n",
    "X_val_mix = val_df.drop(columns=[\"Label\"])\n",
    "Y_val_mix = val_df[\"Label\"]\n",
    "\n",
    "# collapse all non-benign labels to generic “Attack”\n",
    "y_test_bin = (y_test != \"Benign\").astype(int).values   # 0 = Benign, 1 = Attack\n"
   ]
  },
  {
   "cell_type": "code",
   "execution_count": null,
   "id": "338d44e3",
   "metadata": {},
   "outputs": [],
   "source": [
    "\"\"\"\n",
    "Label all benign samples for training and validation sets, then drop the label column\n",
    "\"\"\"\n",
    "\n",
    "# seperate the benign sampels from the training and validaion datasets\n",
    "train_benign = train_df[train_df[\"Label\"] == \"Benign\"]\n",
    "val_benign   = val_df  [val_df  [\"Label\"] == \"Benign\"]\n",
    "# remove the label column and extract only the features into numpy arrays\n",
    "X_train_raw = train_benign.drop(columns=[\"Label\"]).values\n",
    "X_val_raw   = val_benign.drop(columns=[\"Label\"]).values\n",
    "X_test_raw  = test_df.values\n",
    "X_val_mix_raw = X_val_mix.values\n"
   ]
  },
  {
   "cell_type": "code",
   "execution_count": null,
   "id": "ff0dbd7a",
   "metadata": {},
   "outputs": [
    {
     "name": "stdout",
     "output_type": "stream",
     "text": [
      "Handle infinite values\n",
      "Test shape: (87, 49)\n"
     ]
    }
   ],
   "source": [
    "\"\"\" \n",
    "Impute missing values in the training set using the median of each column\n",
    "\"\"\"\n",
    "\n",
    "# replace any infinite values with nan\n",
    "# Simple IMputer cannot handle inf but it can handle nan\n",
    "print(\"Handle infinite values\")\n",
    "X_test_raw[np.isinf(X_test_raw)] = np.nan\n",
    "\n",
    "# use simpleimputer function to replace missing values with the median value of each column\n",
    "imp = SimpleImputer(strategy=\"median\").fit(X_test_raw)\n",
    "X_test_imp = imp.transform(X_test_raw)\n",
    "\n",
    "# Use scaler to learn the min max values but only for the training data\n",
    "scaler = MinMaxScaler().fit(X_test_imp)\n",
    "X_test = scaler.transform(X_test_imp)\n",
    "\n",
    "print(f\"Test shape: {X_test.shape}\")\n"
   ]
  },
  {
   "cell_type": "code",
   "execution_count": null,
   "id": "768b0625",
   "metadata": {},
   "outputs": [
    {
     "name": "stdout",
     "output_type": "stream",
     "text": [
      "best thr: 0.013356443335764965\n",
      "\u001b[1m3/3\u001b[0m \u001b[32m━━━━━━━━━━━━━━━━━━━━\u001b[0m\u001b[37m\u001b[0m \u001b[1m0s\u001b[0m 22ms/step\n",
      "\n",
      "Classification Report (Benign = 0, Attack = 1):\n",
      "              precision    recall  f1-score   support\n",
      "\n",
      "           0      0.786     0.190     0.306        58\n",
      "           1      0.356     0.897     0.510        29\n",
      "\n",
      "    accuracy                          0.425        87\n",
      "   macro avg      0.571     0.543     0.408        87\n",
      "weighted avg      0.643     0.425     0.374        87\n",
      "\n",
      "\n",
      "Readable Confusion Matrix:\n",
      "                    Predicted: Benign (0)  Predicted: Attack (1)\n",
      "Actual: Benign (0)                     11                     47\n",
      "Actual: Attack (1)                      3                     26\n"
     ]
    },
    {
     "data": {
      "image/png": "[encoded data removed]",
      "text/plain": [
       "<Figure size 700x400 with 1 Axes>"
      ]
     },
     "metadata": {},
     "output_type": "display_data"
    }
   ],
   "source": [
    "\"\"\"\n",
    "This block is ran after model is tuned using validation set.\n",
    "Load the best threshold from the previous model tuning process.\n",
    "The threshold is used to classify the test set samples as benign or attack based on the reconstruction error.\n",
    "\"\"\"\n",
    "\n",
    "with open(\"best_threshold_93.pkl\", \"rb\") as f:\n",
    "    best_thr = pickle.load(f)\n",
    "\n",
    "print(f\"best thr: {best_thr}\")\n",
    "\n",
    "auto_loaded = models.load_model(\"denoising_autoencoder_model_93.h5\", compile=False)\n",
    "\n",
    "test_err = np.mean((auto_loaded.predict(X_test) - X_test) ** 2, axis=1)\n",
    "y_pred = (test_err > best_thr).astype(int)\n",
    "\n",
    "# Classification report\n",
    "print(\"\\nClassification Report (Benign = 0, Attack = 1):\")\n",
    "print(classification_report(y_test_bin, y_pred, digits=3))\n",
    "\n",
    "# Confusion matrix\n",
    "conf_mat = confusion_matrix(y_test_bin, y_pred)\n",
    "conf_df = pd.DataFrame(\n",
    "    conf_mat,\n",
    "    index=[\"Actual: Benign (0)\", \"Actual: Attack (1)\"],\n",
    "    columns=[\"Predicted: Benign (0)\", \"Predicted: Attack (1)\"]\n",
    ")\n",
    "print(\"\\nReadable Confusion Matrix:\")\n",
    "print(conf_df)\n",
    "\n",
    "# Plot\n",
    "plt.figure(figsize=(7, 4))\n",
    "sns.histplot(test_err[y_test_bin == 0], bins=100, stat=\"density\",\n",
    "             label=\"Benign\", color=\"blue\", alpha=0.6)\n",
    "sns.histplot(test_err[y_test_bin == 1], bins=100, stat=\"density\",\n",
    "             label=\"Attack\", color=\"red\", alpha=0.6)\n",
    "plt.axvline(best_thr, ls=\"--\", c=\"k\", label=f\"thr={best_thr:.2g}\")\n",
    "plt.xscale(\"log\")\n",
    "plt.legend()\n",
    "plt.title(\"Reconstruction-error distribution\")\n",
    "plt.xlabel(\"MSE\")\n",
    "plt.tight_layout()\n",
    "plt.show()"
   ]
  }
 ],
 "metadata": {
  "kernelspec": {
   "display_name": "Python 3",
   "language": "python",
   "name": "python3"
  },
  "language_info": {
   "codemirror_mode": {
    "name": "ipython",
    "version": 3
   },
   "file_extension": ".py",
   "mimetype": "text/x-python",
   "name": "python",
   "nbconvert_exporter": "python",
   "pygments_lexer": "ipython3",
   "version": "3.11.9"
  }
 },
 "nbformat": 4,
 "nbformat_minor": 5
}
